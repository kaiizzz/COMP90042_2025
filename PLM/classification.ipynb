{
 "cells": [
  {
   "cell_type": "markdown",
   "metadata": {
    "id": "32yCsRUo8H33"
   },
   "source": [
    "# 2025 COMP90042 Project\n",
    "*Make sure you change the file name with your group id.*"
   ]
  },
  {
   "cell_type": "markdown",
   "metadata": {
    "id": "XCybYoGz8YWQ"
   },
   "source": [
    "# Readme\n",
    "*If there is something to be noted for the marker, please mention here.*\n",
    "\n",
    "*If you are planning to implement a program with Object Oriented Programming style, please put those the bottom of this ipynb file*"
   ]
  },
  {
   "cell_type": "markdown",
   "metadata": {
    "id": "6po98qVA8bJD"
   },
   "source": [
    "# 1.DataSet Processing\n",
    "(You can add as many code blocks and text blocks as you need. However, YOU SHOULD NOT MODIFY the section title)"
   ]
  },
  {
   "cell_type": "markdown",
   "metadata": {},
   "source": [
    "# Read files"
   ]
  },
  {
   "cell_type": "code",
   "execution_count": 1,
   "metadata": {
    "id": "qvff21Hv8zjk"
   },
   "outputs": [
    {
     "name": "stdout",
     "output_type": "stream",
     "text": [
      "Loaded 1208827 evidence documents.\n",
      "Loaded 1228 train items.\n",
      "Loaded 154 dev items.\n"
     ]
    }
   ],
   "source": [
    "import json\n",
    "import os\n",
    "\n",
    "# Set paths\n",
    "data_dir = \"data\"\n",
    "train_claims_file = os.path.join(data_dir, \"train-claims.json\")\n",
    "dev_claims_file = os.path.join(data_dir, \"dev-claims.json\")\n",
    "test_claims_file = os.path.join(data_dir, \"test_claims_retrieved_reranked.json\")\n",
    "evidence_file = os.path.join(data_dir, \"evidence.json\")\n",
    "\n",
    "sep_token = \"[SEP]\"\n",
    "cls_token = \"[CLS]\"\n",
    "\n",
    "id2labels = [\"SUPPORTS\", \"NOT_ENOUGH_INFO\", \"REFUTES\", \"DISPUTED\"]\n",
    "labels2id = {\"SUPPORTS\": 0, \"NOT_ENOUGH_INFO\": 1, \"REFUTES\": 2, \"DISPUTED\": 3}\n",
    "\n",
    "# Load evidences\n",
    "with open(evidence_file, 'r') as f:\n",
    "    evidences = json.load(f)\n",
    "print(f\"Loaded {len(evidences)} evidence documents.\")\n",
    "\n",
    "# Load train claims\n",
    "with open(train_claims_file, 'r') as f:\n",
    "    train_claims = json.load(f)\n",
    "\n",
    "train_data = []\n",
    "for train_id in train_claims.keys():\n",
    "    claim = train_claims[train_id]['claim_text']\n",
    "    cur_evidences = train_claims[train_id]['evidences']\n",
    "    evidence_texts = [evidences[evidence_id] for evidence_id in cur_evidences]\n",
    "    train_input = cls_token + claim + sep_token.join(evidence_texts) + sep_token\n",
    "    train_data.append({\n",
    "        'input': train_input,\n",
    "        'label': labels2id[train_claims[train_id]['claim_label']],\n",
    "    })\n",
    "\n",
    "print(f\"Loaded {len(train_data)} train items.\")\n",
    "\n",
    "# Load dev claims\n",
    "with open(dev_claims_file, 'r') as f:\n",
    "    dev_claims = json.load(f)\n",
    "\n",
    "dev_data = []\n",
    "for dev_id in dev_claims.keys():\n",
    "    claim = dev_claims[dev_id]['claim_text']\n",
    "    cur_evidences = dev_claims[dev_id]['evidences']\n",
    "    evidence_texts = [evidences[evidence_id] for evidence_id in cur_evidences]\n",
    "    dev_input = cls_token + claim + sep_token.join(evidence_texts) + sep_token\n",
    "    dev_data.append({\n",
    "        'input': dev_input,\n",
    "        'label': labels2id[dev_claims[dev_id]['claim_label']],\n",
    "    })\n",
    "\n",
    "print(f\"Loaded {len(dev_data)} dev items.\")\n",
    "\n",
    "# Load test claims\n",
    "with open(test_claims_file, 'r') as f:\n",
    "    test_claims = json.load(f)\n",
    "\n",
    "test_data = []\n",
    "test_ids = list(test_claims.keys())\n",
    "for test_id in test_ids:\n",
    "    claim = test_claims[test_id]['claim_text']\n",
    "    cur_evidences = test_claims[test_id]['evidences']\n",
    "    evidence_texts = [evidences[evidence_id] for evidence_id in cur_evidences]\n",
    "    test_input = cls_token + claim + sep_token.join(evidence_texts) + sep_token\n",
    "    test_data.append({\n",
    "        'input': test_input,\n",
    "        'label': -1,  # Placeholder for test data labels\n",
    "    })\n"
   ]
  },
  {
   "cell_type": "code",
   "execution_count": 2,
   "metadata": {},
   "outputs": [],
   "source": [
    "import random\n",
    "import numpy as np\n",
    "import torch\n",
    "seed = 330\n",
    "random.seed(seed)\n",
    "np.random.seed(seed)\n",
    "torch.manual_seed(seed)\n",
    "torch.cuda.manual_seed_all(seed)\n",
    "torch.backends.cudnn.deterministic = True\n",
    "torch.backends.cudnn.benchmark = False"
   ]
  },
  {
   "cell_type": "code",
   "execution_count": 3,
   "metadata": {},
   "outputs": [
    {
     "name": "stderr",
     "output_type": "stream",
     "text": [
      "2025-05-14 13:54:50.593854: I tensorflow/core/util/port.cc:153] oneDNN custom operations are on. You may see slightly different numerical results due to floating-point round-off errors from different computation orders. To turn them off, set the environment variable `TF_ENABLE_ONEDNN_OPTS=0`.\n",
      "2025-05-14 13:54:50.612511: E external/local_xla/xla/stream_executor/cuda/cuda_fft.cc:467] Unable to register cuFFT factory: Attempting to register factory for plugin cuFFT when one has already been registered\n",
      "WARNING: All log messages before absl::InitializeLog() is called are written to STDERR\n",
      "E0000 00:00:1747202090.636633    5517 cuda_dnn.cc:8579] Unable to register cuDNN factory: Attempting to register factory for plugin cuDNN when one has already been registered\n",
      "E0000 00:00:1747202090.644381    5517 cuda_blas.cc:1407] Unable to register cuBLAS factory: Attempting to register factory for plugin cuBLAS when one has already been registered\n",
      "W0000 00:00:1747202090.667314    5517 computation_placer.cc:177] computation placer already registered. Please check linkage and avoid linking the same target more than once.\n",
      "W0000 00:00:1747202090.667335    5517 computation_placer.cc:177] computation placer already registered. Please check linkage and avoid linking the same target more than once.\n",
      "W0000 00:00:1747202090.667339    5517 computation_placer.cc:177] computation placer already registered. Please check linkage and avoid linking the same target more than once.\n",
      "W0000 00:00:1747202090.667343    5517 computation_placer.cc:177] computation placer already registered. Please check linkage and avoid linking the same target more than once.\n",
      "2025-05-14 13:54:50.677709: I tensorflow/core/platform/cpu_feature_guard.cc:210] This TensorFlow binary is optimized to use available CPU instructions in performance-critical operations.\n",
      "To enable the following instructions: AVX2 AVX512F AVX512_VNNI FMA, in other operations, rebuild TensorFlow with the appropriate compiler flags.\n",
      "Some weights of DistilBertForSequenceClassification were not initialized from the model checkpoint at distilbert-base-uncased and are newly initialized: ['classifier.bias', 'classifier.weight', 'pre_classifier.bias', 'pre_classifier.weight']\n",
      "You should probably TRAIN this model on a down-stream task to be able to use it for predictions and inference.\n"
     ]
    }
   ],
   "source": [
    "from transformers import AutoTokenizer\n",
    "from transformers import AutoModelForSequenceClassification\n",
    "model_name = \"distilbert-base-uncased\"\n",
    "tokenizer = AutoTokenizer.from_pretrained(model_name, max_length=512)\n",
    "model = AutoModelForSequenceClassification.from_pretrained(model_name, num_labels=len(id2labels))"
   ]
  },
  {
   "cell_type": "code",
   "execution_count": 4,
   "metadata": {},
   "outputs": [],
   "source": [
    "# DataLoader for train, and test data\n",
    "from torch.utils.data import Dataset, DataLoader\n",
    "import torch\n",
    "\n",
    "\n",
    "class ClaimsDataset(Dataset):\n",
    "    def __init__(self, data, tokenizer, max_length=512):\n",
    "        self.data = data\n",
    "        self.tokenizer = tokenizer\n",
    "        self.max_length = max_length\n",
    "\n",
    "    def __len__(self):\n",
    "        return len(self.data)\n",
    "\n",
    "    def __getitem__(self, idx):\n",
    "        item = self.data[idx]\n",
    "        \n",
    "        # Better processing method: using model's standard format\n",
    "        if 'claim_text' in item and 'evidence_texts' in item:\n",
    "            # Assuming each data item contains separate claim and evidences\n",
    "            claim = item['claim_text']\n",
    "            evidences = item['evidence_texts']\n",
    "            evidence_text = \" \".join(evidences[:3])  # Limit number of evidences to avoid truncation\n",
    "            \n",
    "            inputs = self.tokenizer(\n",
    "                claim,                 # Claim as the first text\n",
    "                evidence_text,         # Evidence as the second text\n",
    "                padding='max_length',\n",
    "                truncation='longest_first',\n",
    "                max_length=self.max_length,\n",
    "                return_tensors=\"pt\"\n",
    "            )\n",
    "        else:\n",
    "            # Compatible with existing input format\n",
    "            inputs = self.tokenizer(\n",
    "                item['input'], \n",
    "                padding='max_length', \n",
    "                truncation=True, \n",
    "                max_length=self.max_length,\n",
    "                return_tensors=\"pt\"\n",
    "            )\n",
    "            \n",
    "        label = torch.tensor(item['label'])\n",
    "        \n",
    "        return {\n",
    "            'input_ids': inputs['input_ids'].squeeze(0),\n",
    "            'attention_mask': inputs['attention_mask'].squeeze(0),\n",
    "            'labels': label\n",
    "        }\n",
    "    \n",
    "    def collate_fn(self, batch):\n",
    "        input_ids = torch.stack([item['input_ids'] for item in batch])\n",
    "        attention_mask = torch.stack([item['attention_mask'] for item in batch])\n",
    "        labels = torch.stack([item['labels'] for item in batch])\n",
    "        return {\n",
    "            'input_ids': input_ids,\n",
    "            'attention_mask': attention_mask,\n",
    "            'labels': labels\n",
    "        }\n",
    "    "
   ]
  },
  {
   "cell_type": "code",
   "execution_count": 5,
   "metadata": {},
   "outputs": [],
   "source": [
    "batch_size = 32\n",
    "\n",
    "train_dataset = ClaimsDataset(train_data, tokenizer)\n",
    "train_dataloader = DataLoader(train_dataset, batch_size=batch_size, shuffle=True, collate_fn=train_dataset.collate_fn)\n",
    "\n",
    "dev_dataset = ClaimsDataset(dev_data, tokenizer)\n",
    "dev_dataloader = DataLoader(dev_dataset, batch_size=batch_size, shuffle=False, collate_fn=dev_dataset.collate_fn)\n",
    "\n",
    "test_dataset = ClaimsDataset(test_data, tokenizer)\n",
    "test_dataloader = DataLoader(test_dataset, batch_size=batch_size, shuffle=False, collate_fn=test_dataset.collate_fn)\n"
   ]
  },
  {
   "cell_type": "markdown",
   "metadata": {
    "id": "1FA2ao2l8hOg"
   },
   "source": [
    "# 2. Model Implementation\n",
    "(You can add as many code blocks and text blocks as you need. However, YOU SHOULD NOT MODIFY the section title)"
   ]
  },
  {
   "cell_type": "markdown",
   "metadata": {},
   "source": [
    "### Label Smoothing Loss"
   ]
  },
  {
   "cell_type": "code",
   "execution_count": 6,
   "metadata": {},
   "outputs": [],
   "source": [
    "# Define Label Smoothing Loss class\n",
    "import torch.nn as nn\n",
    "import torch.nn.functional as F\n",
    "\n",
    "class LabelSmoothingLoss(nn.Module):\n",
    "    def __init__(self, classes, smoothing=0.1, dim=-1):\n",
    "        super(LabelSmoothingLoss, self).__init__()\n",
    "        self.confidence = 1.0 - smoothing\n",
    "        self.smoothing = smoothing\n",
    "        self.cls = classes\n",
    "        self.dim = dim\n",
    "\n",
    "    def forward(self, pred, target):\n",
    "        pred = pred.log_softmax(dim=self.dim)\n",
    "        with torch.no_grad():\n",
    "            # Create smoothed label distribution\n",
    "            true_dist = torch.zeros_like(pred)\n",
    "            true_dist.fill_(self.smoothing / (self.cls - 1))\n",
    "            true_dist.scatter_(1, target.unsqueeze(1), self.confidence)\n",
    "        return torch.mean(torch.sum(-true_dist * pred, dim=self.dim))"
   ]
  },
  {
   "cell_type": "code",
   "execution_count": 7,
   "metadata": {},
   "outputs": [],
   "source": [
    "from tqdm import tqdm\n",
    "\n",
    "def validate_model_with_exposure_mitigation(model, exposure_mitigator, dataloader, device, criterion=None):\n",
    "    model.eval()\n",
    "    exposure_mitigator.training = False\n",
    "    total_loss = 0\n",
    "    correct_predictions = 0\n",
    "    total_predictions = 0\n",
    "\n",
    "    with torch.no_grad():\n",
    "        progress_bar = tqdm(dataloader, desc=f\"[Validating]\")\n",
    "        for batch in progress_bar:\n",
    "            input_ids = batch['input_ids'].to(device)\n",
    "            attention_mask = batch['attention_mask'].to(device)\n",
    "            labels = batch['labels'].to(device)\n",
    "\n",
    "            # Forward pass using exposure mitigator\n",
    "            logits = exposure_mitigator.forward_with_scheduled_sampling(\n",
    "                input_ids=input_ids, \n",
    "                attention_mask=attention_mask, \n",
    "                labels=labels\n",
    "            )\n",
    "            \n",
    "            # Use label smoothing loss or default cross entropy\n",
    "            if criterion is not None:\n",
    "                loss = criterion(logits, labels)\n",
    "            else:\n",
    "                loss = F.cross_entropy(logits, labels)\n",
    "\n",
    "            total_loss += loss.item()\n",
    "            _, preds = torch.max(logits, dim=1)\n",
    "            correct_predictions += (preds == labels).sum().item()\n",
    "            total_predictions += labels.size(0)\n",
    "\n",
    "    avg_loss = total_loss / len(dataloader)\n",
    "    accuracy = correct_predictions / total_predictions\n",
    "\n",
    "    model.train()  # Set model back to training mode\n",
    "    return avg_loss, accuracy"
   ]
  },
  {
   "cell_type": "markdown",
   "metadata": {},
   "source": [
    "### Exposure Bias Mitigation for Scheduled Sampling"
   ]
  },
  {
   "cell_type": "code",
   "execution_count": 8,
   "metadata": {},
   "outputs": [],
   "source": [
    "# Implementation of scheduled sampling to mitigate exposure bias\n",
    "class ExposureBiasMitigator:\n",
    "    def __init__(self, model, device, num_labels, decay_rate=0.01):\n",
    "        \"\"\"\n",
    "        Args:\n",
    "            model: The classification model\n",
    "            device: The device to run on\n",
    "            num_labels: Number of classification labels\n",
    "            decay_rate: Rate at which to decrease teacher forcing probability\n",
    "        \"\"\"\n",
    "        self.model = model\n",
    "        self.device = device\n",
    "        self.num_labels = num_labels\n",
    "        self.decay_rate = decay_rate\n",
    "        self.teacher_forcing_prob = 1.0\n",
    "        \n",
    "    def update_teacher_forcing_prob(self, epoch):\n",
    "        \"\"\"Decrease teacher forcing probability as training progresses\"\"\"\n",
    "        self.teacher_forcing_prob = max(0.0, 1.0 - self.decay_rate * epoch)\n",
    "        return self.teacher_forcing_prob\n",
    "        \n",
    "    def forward_with_scheduled_sampling(self, input_ids, attention_mask, labels):\n",
    "        \"\"\"Forward pass with scheduled sampling to mitigate exposure bias\"\"\"\n",
    "        # Initial forward pass with all real inputs\n",
    "        outputs = self.model(input_ids=input_ids, attention_mask=attention_mask)\n",
    "        logits = outputs.logits\n",
    "        \n",
    "        # Apply scheduled sampling for a second forward pass\n",
    "        if self.training and random.random() > self.teacher_forcing_prob:\n",
    "            # Generate pseudo-labels based on model prediction\n",
    "            with torch.no_grad():\n",
    "                pseudo_probs = F.softmax(logits, dim=-1)\n",
    "                # Sample from the distribution\n",
    "                pseudo_labels = torch.multinomial(pseudo_probs, 1).squeeze(-1)\n",
    "            \n",
    "            # Create token type ids based on pseudo-labels\n",
    "            # This simulates the model being conditioned on its own predictions\n",
    "            token_type_ids = torch.zeros_like(input_ids)\n",
    "            for i, label in enumerate(pseudo_labels):\n",
    "                # Set token type based on predicted class\n",
    "                token_type_ids[i, :] = label.item()\n",
    "                \n",
    "            # Second forward pass with token type ids from predicted labels\n",
    "            if hasattr(self.model, 'token_type_embeddings'):\n",
    "                # If model supports token type embeddings\n",
    "                outputs = self.model(\n",
    "                    input_ids=input_ids, \n",
    "                    attention_mask=attention_mask,\n",
    "                    token_type_ids=token_type_ids\n",
    "                )\n",
    "                logits = outputs.logits\n",
    "        \n",
    "        return logits"
   ]
  },
  {
   "cell_type": "markdown",
   "metadata": {},
   "source": [
    "### Homogeneous Ensemble run different random seeds"
   ]
  },
  {
   "cell_type": "code",
   "execution_count": 9,
   "metadata": {},
   "outputs": [],
   "source": [
    "# Memory-efficient implementation of model ensemble techniques\n",
    "import torch.nn as nn\n",
    "import torch.nn.functional as F\n",
    "from transformers import AutoModelForSequenceClassification\n",
    "import gc\n",
    "from tqdm import tqdm\n",
    "\n",
    "class EnsembleClassifier:\n",
    "    \"\"\"Memory-efficient implementation of homogeneous ensemble for fact verification\"\"\"\n",
    "    def __init__(self, model_names, device, num_labels=3):\n",
    "        \"\"\"\n",
    "        Args:\n",
    "            model_names: List of model names to use in ensemble\n",
    "            device: Device to run models on\n",
    "            num_labels: Number of classification labels\n",
    "        \"\"\"\n",
    "        self.model_names = model_names\n",
    "        self.device = device\n",
    "        self.num_labels = num_labels\n",
    "        self.tokenizers = {}\n",
    "        self.models = {}\n",
    "        \n",
    "    def _load_model(self, model_name):\n",
    "        \"\"\"Dynamically load and cache models to save memory\"\"\"\n",
    "        if model_name in self.models:\n",
    "            return self.models[model_name]\n",
    "            \n",
    "        # Clean memory before loading a new model\n",
    "        gc.collect()\n",
    "        torch.cuda.empty_cache()\n",
    "        \n",
    "        print(f\"Loading model: {model_name}\")\n",
    "        model = AutoModelForSequenceClassification.from_pretrained(\n",
    "            model_name, \n",
    "            num_labels=self.num_labels\n",
    "        ).to(self.device)\n",
    "        \n",
    "        # Cache for later use\n",
    "        self.models[model_name] = model\n",
    "        return model\n",
    "        \n",
    "    def _unload_models(self):\n",
    "        \"\"\"Unload all models to free memory\"\"\"\n",
    "        for key in list(self.models.keys()):\n",
    "            del self.models[key]\n",
    "        self.models = {}\n",
    "        gc.collect()\n",
    "        torch.cuda.empty_cache()\n",
    "    \n",
    "    def homogeneous_ensemble(self, dataloader, model_name, model_checkpoint, num_runs=3):\n",
    "        \"\"\"Homogeneous ensemble - Train model multiple times with different seeds\"\"\"\n",
    "        all_predictions = []\n",
    "        all_logits = []\n",
    "        \n",
    "        # Use same model but with different random initializations\n",
    "        base_model = self._load_model(model_name)\n",
    "        \n",
    "        for run in range(num_runs):\n",
    "            print(f\"Run {run+1}/{num_runs}\")\n",
    "            \n",
    "            # Set different seed for each run\n",
    "            torch.manual_seed(330 + run)\n",
    "            torch.cuda.manual_seed_all(330 + run)\n",
    "            \n",
    "            # Load the model checkpoint but with different initialization for some layers\n",
    "            model = self._load_model(model_name)\n",
    "            \n",
    "            # Optionally load some pre-trained weights\n",
    "            if model_checkpoint:\n",
    "                model.load_state_dict(torch.load(model_checkpoint), strict=False)\n",
    "                \n",
    "            # Get predictions for this run\n",
    "            model.eval()\n",
    "            run_logits = []\n",
    "            \n",
    "            with torch.no_grad():\n",
    "                for batch in tqdm(dataloader, desc=f\"Evaluating run {run+1}\"):\n",
    "                    input_ids = batch['input_ids'].to(self.device)\n",
    "                    attention_mask = batch['attention_mask'].to(self.device)\n",
    "                    \n",
    "                    outputs = model(input_ids=input_ids, attention_mask=attention_mask)\n",
    "                    batch_logits = outputs.logits\n",
    "                    run_logits.append(batch_logits)\n",
    "            \n",
    "            # Concat all batch logits\n",
    "            run_logits = torch.cat(run_logits, dim=0).cpu()\n",
    "            all_logits.append(run_logits)\n",
    "            \n",
    "            # Free memory\n",
    "            del model\n",
    "            gc.collect()\n",
    "            torch.cuda.empty_cache()\n",
    "        \n",
    "        # Combine predictions from all runs (average logits)\n",
    "        avg_logits = torch.stack(all_logits).mean(dim=0)\n",
    "        _, predictions = torch.max(avg_logits, dim=1)\n",
    "        \n",
    "        return predictions.numpy()"
   ]
  },
  {
   "cell_type": "markdown",
   "metadata": {},
   "source": [
    "## Train"
   ]
  },
  {
   "cell_type": "code",
   "execution_count": 10,
   "metadata": {
    "id": "QIEqDDT78q39"
   },
   "outputs": [
    {
     "name": "stdout",
     "output_type": "stream",
     "text": [
      "Using device: cuda\n",
      "Epoch 1/20 - Teacher forcing probability: 1.0000\n"
     ]
    },
    {
     "data": {
      "application/vnd.jupyter.widget-view+json": {
       "model_id": "f21610f376a74ca5960a3a78fcbbb7a5",
       "version_major": 2,
       "version_minor": 0
      },
      "text/plain": [
       "Epoch 1/20 [Training]:   0%|          | 0/39 [00:00<?, ?it/s]"
      ]
     },
     "metadata": {},
     "output_type": "display_data"
    },
    {
     "name": "stdout",
     "output_type": "stream",
     "text": [
      "Step 20: Loss: 1.3881, LR: 0.0000020\n",
      "Epoch 2/20 - Teacher forcing probability: 0.9500\n"
     ]
    },
    {
     "data": {
      "application/vnd.jupyter.widget-view+json": {
       "model_id": "91f02bd8043c45059d7742f2d33eb0bc",
       "version_major": 2,
       "version_minor": 0
      },
      "text/plain": [
       "Epoch 2/20 [Training]:   0%|          | 0/39 [00:00<?, ?it/s]"
      ]
     },
     "metadata": {},
     "output_type": "display_data"
    },
    {
     "name": "stdout",
     "output_type": "stream",
     "text": [
      "Step 40: Loss: 1.3142, LR: 0.0000040\n",
      "Step 60: Loss: 1.2798, LR: 0.0000060\n",
      "Epoch 3/20 - Teacher forcing probability: 0.9000\n"
     ]
    },
    {
     "data": {
      "application/vnd.jupyter.widget-view+json": {
       "model_id": "b48e4a015c7a4871ab5a9f0bf22cb090",
       "version_major": 2,
       "version_minor": 0
      },
      "text/plain": [
       "Epoch 3/20 [Training]:   0%|          | 0/39 [00:00<?, ?it/s]"
      ]
     },
     "metadata": {},
     "output_type": "display_data"
    },
    {
     "name": "stdout",
     "output_type": "stream",
     "text": [
      "Step 80: Loss: 1.2627, LR: 0.0000080\n",
      "Step 100: Loss: 1.1329, LR: 0.0000100\n"
     ]
    },
    {
     "data": {
      "application/vnd.jupyter.widget-view+json": {
       "model_id": "2e6b0a4cc9e247c490d8531c4624ed81",
       "version_major": 2,
       "version_minor": 0
      },
      "text/plain": [
       "[Validating]:   0%|          | 0/5 [00:00<?, ?it/s]"
      ]
     },
     "metadata": {},
     "output_type": "display_data"
    },
    {
     "name": "stdout",
     "output_type": "stream",
     "text": [
      "Validation Loss: 1.2323, Validation Accuracy: 0.5325\n",
      "New best model found! Validation Accuracy: 0.5325\n",
      "Epoch 4/20 - Teacher forcing probability: 0.8500\n"
     ]
    },
    {
     "data": {
      "application/vnd.jupyter.widget-view+json": {
       "model_id": "2ad1c1fc2a5043e7bc6ea78684afc950",
       "version_major": 2,
       "version_minor": 0
      },
      "text/plain": [
       "Epoch 4/20 [Training]:   0%|          | 0/39 [00:00<?, ?it/s]"
      ]
     },
     "metadata": {},
     "output_type": "display_data"
    },
    {
     "name": "stdout",
     "output_type": "stream",
     "text": [
      "Step 120: Loss: 1.0500, LR: 0.0000097\n",
      "Step 140: Loss: 1.0097, LR: 0.0000094\n",
      "Epoch 5/20 - Teacher forcing probability: 0.8000\n"
     ]
    },
    {
     "data": {
      "application/vnd.jupyter.widget-view+json": {
       "model_id": "7141dbabb2a94bae8315d21c7df21731",
       "version_major": 2,
       "version_minor": 0
      },
      "text/plain": [
       "Epoch 5/20 [Training]:   0%|          | 0/39 [00:00<?, ?it/s]"
      ]
     },
     "metadata": {},
     "output_type": "display_data"
    },
    {
     "name": "stdout",
     "output_type": "stream",
     "text": [
      "Step 160: Loss: 0.9519, LR: 0.0000091\n",
      "Step 180: Loss: 0.9200, LR: 0.0000088\n",
      "Epoch 6/20 - Teacher forcing probability: 0.7500\n"
     ]
    },
    {
     "data": {
      "application/vnd.jupyter.widget-view+json": {
       "model_id": "8e758b9e996b498f872059bdfde590cf",
       "version_major": 2,
       "version_minor": 0
      },
      "text/plain": [
       "Epoch 6/20 [Training]:   0%|          | 0/39 [00:00<?, ?it/s]"
      ]
     },
     "metadata": {},
     "output_type": "display_data"
    },
    {
     "name": "stdout",
     "output_type": "stream",
     "text": [
      "Step 200: Loss: 0.9874, LR: 0.0000085\n"
     ]
    },
    {
     "data": {
      "application/vnd.jupyter.widget-view+json": {
       "model_id": "f11e7b8a4cc54c2182a50c87463315fe",
       "version_major": 2,
       "version_minor": 0
      },
      "text/plain": [
       "[Validating]:   0%|          | 0/5 [00:00<?, ?it/s]"
      ]
     },
     "metadata": {},
     "output_type": "display_data"
    },
    {
     "name": "stdout",
     "output_type": "stream",
     "text": [
      "Validation Loss: 1.0970, Validation Accuracy: 0.5974\n",
      "New best model found! Validation Accuracy: 0.5974\n",
      "Step 220: Loss: 0.8915, LR: 0.0000082\n",
      "Epoch 7/20 - Teacher forcing probability: 0.7000\n"
     ]
    },
    {
     "data": {
      "application/vnd.jupyter.widget-view+json": {
       "model_id": "d383464bd1464f9f8a6cd9dc3f402b8c",
       "version_major": 2,
       "version_minor": 0
      },
      "text/plain": [
       "Epoch 7/20 [Training]:   0%|          | 0/39 [00:00<?, ?it/s]"
      ]
     },
     "metadata": {},
     "output_type": "display_data"
    },
    {
     "name": "stdout",
     "output_type": "stream",
     "text": [
      "Step 240: Loss: 0.8124, LR: 0.0000079\n",
      "Step 260: Loss: 0.8384, LR: 0.0000076\n",
      "Epoch 8/20 - Teacher forcing probability: 0.6500\n"
     ]
    },
    {
     "data": {
      "application/vnd.jupyter.widget-view+json": {
       "model_id": "d429d37c779e458d825810b87142e676",
       "version_major": 2,
       "version_minor": 0
      },
      "text/plain": [
       "Epoch 8/20 [Training]:   0%|          | 0/39 [00:00<?, ?it/s]"
      ]
     },
     "metadata": {},
     "output_type": "display_data"
    },
    {
     "name": "stdout",
     "output_type": "stream",
     "text": [
      "Step 280: Loss: 0.8420, LR: 0.0000074\n",
      "Step 300: Loss: 0.6802, LR: 0.0000071\n"
     ]
    },
    {
     "data": {
      "application/vnd.jupyter.widget-view+json": {
       "model_id": "855b3a07c6fc486983c1c48d637b6b75",
       "version_major": 2,
       "version_minor": 0
      },
      "text/plain": [
       "[Validating]:   0%|          | 0/5 [00:00<?, ?it/s]"
      ]
     },
     "metadata": {},
     "output_type": "display_data"
    },
    {
     "name": "stdout",
     "output_type": "stream",
     "text": [
      "Validation Loss: 0.9980, Validation Accuracy: 0.6753\n",
      "New best model found! Validation Accuracy: 0.6753\n",
      "Epoch 9/20 - Teacher forcing probability: 0.6000\n"
     ]
    },
    {
     "data": {
      "application/vnd.jupyter.widget-view+json": {
       "model_id": "3cd287c70c8e44738687f6b42563365a",
       "version_major": 2,
       "version_minor": 0
      },
      "text/plain": [
       "Epoch 9/20 [Training]:   0%|          | 0/39 [00:00<?, ?it/s]"
      ]
     },
     "metadata": {},
     "output_type": "display_data"
    },
    {
     "name": "stdout",
     "output_type": "stream",
     "text": [
      "Step 320: Loss: 0.7584, LR: 0.0000068\n",
      "Step 340: Loss: 0.8331, LR: 0.0000065\n",
      "Epoch 10/20 - Teacher forcing probability: 0.5500\n"
     ]
    },
    {
     "data": {
      "application/vnd.jupyter.widget-view+json": {
       "model_id": "2e42802bac6a449889730946f44eaf0c",
       "version_major": 2,
       "version_minor": 0
      },
      "text/plain": [
       "Epoch 10/20 [Training]:   0%|          | 0/39 [00:00<?, ?it/s]"
      ]
     },
     "metadata": {},
     "output_type": "display_data"
    },
    {
     "name": "stdout",
     "output_type": "stream",
     "text": [
      "Step 360: Loss: 0.6939, LR: 0.0000062\n",
      "Step 380: Loss: 0.8304, LR: 0.0000059\n",
      "Epoch 11/20 - Teacher forcing probability: 0.5000\n"
     ]
    },
    {
     "data": {
      "application/vnd.jupyter.widget-view+json": {
       "model_id": "2714b43fdc0641eab9cf2aec6c1bf5e4",
       "version_major": 2,
       "version_minor": 0
      },
      "text/plain": [
       "Epoch 11/20 [Training]:   0%|          | 0/39 [00:00<?, ?it/s]"
      ]
     },
     "metadata": {},
     "output_type": "display_data"
    },
    {
     "name": "stdout",
     "output_type": "stream",
     "text": [
      "Step 400: Loss: 0.8439, LR: 0.0000056\n"
     ]
    },
    {
     "data": {
      "application/vnd.jupyter.widget-view+json": {
       "model_id": "d65293a2fd9f41eda9b863cb9a88d17c",
       "version_major": 2,
       "version_minor": 0
      },
      "text/plain": [
       "[Validating]:   0%|          | 0/5 [00:00<?, ?it/s]"
      ]
     },
     "metadata": {},
     "output_type": "display_data"
    },
    {
     "name": "stdout",
     "output_type": "stream",
     "text": [
      "Validation Loss: 0.9794, Validation Accuracy: 0.7078\n",
      "New best model found! Validation Accuracy: 0.7078\n",
      "Step 420: Loss: 0.6995, LR: 0.0000053\n",
      "Epoch 12/20 - Teacher forcing probability: 0.4500\n"
     ]
    },
    {
     "data": {
      "application/vnd.jupyter.widget-view+json": {
       "model_id": "3d73ab045caa47cd894efc651bf277b7",
       "version_major": 2,
       "version_minor": 0
      },
      "text/plain": [
       "Epoch 12/20 [Training]:   0%|          | 0/39 [00:00<?, ?it/s]"
      ]
     },
     "metadata": {},
     "output_type": "display_data"
    },
    {
     "name": "stdout",
     "output_type": "stream",
     "text": [
      "Step 440: Loss: 0.7142, LR: 0.0000050\n",
      "Step 460: Loss: 0.6516, LR: 0.0000047\n",
      "Epoch 13/20 - Teacher forcing probability: 0.4000\n"
     ]
    },
    {
     "data": {
      "application/vnd.jupyter.widget-view+json": {
       "model_id": "7c276add5ad74e95963a814c460b9d8b",
       "version_major": 2,
       "version_minor": 0
      },
      "text/plain": [
       "Epoch 13/20 [Training]:   0%|          | 0/39 [00:00<?, ?it/s]"
      ]
     },
     "metadata": {},
     "output_type": "display_data"
    },
    {
     "name": "stdout",
     "output_type": "stream",
     "text": [
      "Step 480: Loss: 0.8082, LR: 0.0000044\n",
      "Step 500: Loss: 0.7932, LR: 0.0000041\n"
     ]
    },
    {
     "data": {
      "application/vnd.jupyter.widget-view+json": {
       "model_id": "7b00276055e9461e960858564e906bd5",
       "version_major": 2,
       "version_minor": 0
      },
      "text/plain": [
       "[Validating]:   0%|          | 0/5 [00:00<?, ?it/s]"
      ]
     },
     "metadata": {},
     "output_type": "display_data"
    },
    {
     "name": "stdout",
     "output_type": "stream",
     "text": [
      "Validation Loss: 0.9803, Validation Accuracy: 0.6883\n",
      "Epoch 14/20 - Teacher forcing probability: 0.3500\n"
     ]
    },
    {
     "data": {
      "application/vnd.jupyter.widget-view+json": {
       "model_id": "1a481a03a47143208f09b86f295aeb00",
       "version_major": 2,
       "version_minor": 0
      },
      "text/plain": [
       "Epoch 14/20 [Training]:   0%|          | 0/39 [00:00<?, ?it/s]"
      ]
     },
     "metadata": {},
     "output_type": "display_data"
    },
    {
     "name": "stdout",
     "output_type": "stream",
     "text": [
      "Step 520: Loss: 0.6608, LR: 0.0000038\n",
      "Step 540: Loss: 0.7995, LR: 0.0000035\n",
      "Epoch 15/20 - Teacher forcing probability: 0.3000\n"
     ]
    },
    {
     "data": {
      "application/vnd.jupyter.widget-view+json": {
       "model_id": "e410c9528e45482595af70d37f6908bf",
       "version_major": 2,
       "version_minor": 0
      },
      "text/plain": [
       "Epoch 15/20 [Training]:   0%|          | 0/39 [00:00<?, ?it/s]"
      ]
     },
     "metadata": {},
     "output_type": "display_data"
    },
    {
     "name": "stdout",
     "output_type": "stream",
     "text": [
      "Step 560: Loss: 0.6486, LR: 0.0000032\n",
      "Step 580: Loss: 0.6713, LR: 0.0000029\n",
      "Epoch 16/20 - Teacher forcing probability: 0.2500\n"
     ]
    },
    {
     "data": {
      "application/vnd.jupyter.widget-view+json": {
       "model_id": "98edc4e8024b404fa257e96cd1bb13c5",
       "version_major": 2,
       "version_minor": 0
      },
      "text/plain": [
       "Epoch 16/20 [Training]:   0%|          | 0/39 [00:00<?, ?it/s]"
      ]
     },
     "metadata": {},
     "output_type": "display_data"
    },
    {
     "name": "stdout",
     "output_type": "stream",
     "text": [
      "Step 600: Loss: 0.9028, LR: 0.0000026\n"
     ]
    },
    {
     "data": {
      "application/vnd.jupyter.widget-view+json": {
       "model_id": "16b0c304d34648089f5923f3b9f01877",
       "version_major": 2,
       "version_minor": 0
      },
      "text/plain": [
       "[Validating]:   0%|          | 0/5 [00:00<?, ?it/s]"
      ]
     },
     "metadata": {},
     "output_type": "display_data"
    },
    {
     "name": "stdout",
     "output_type": "stream",
     "text": [
      "Validation Loss: 1.0241, Validation Accuracy: 0.6558\n",
      "Step 620: Loss: 0.6037, LR: 0.0000024\n",
      "Epoch 17/20 - Teacher forcing probability: 0.2000\n"
     ]
    },
    {
     "data": {
      "application/vnd.jupyter.widget-view+json": {
       "model_id": "c44d28a9e302464fb82647261ff22d41",
       "version_major": 2,
       "version_minor": 0
      },
      "text/plain": [
       "Epoch 17/20 [Training]:   0%|          | 0/39 [00:00<?, ?it/s]"
      ]
     },
     "metadata": {},
     "output_type": "display_data"
    },
    {
     "name": "stdout",
     "output_type": "stream",
     "text": [
      "Step 640: Loss: 0.7332, LR: 0.0000021\n",
      "Step 660: Loss: 0.7272, LR: 0.0000018\n",
      "Epoch 18/20 - Teacher forcing probability: 0.1500\n"
     ]
    },
    {
     "data": {
      "application/vnd.jupyter.widget-view+json": {
       "model_id": "e30567eeb97d4048a35e4568a90e62ba",
       "version_major": 2,
       "version_minor": 0
      },
      "text/plain": [
       "Epoch 18/20 [Training]:   0%|          | 0/39 [00:00<?, ?it/s]"
      ]
     },
     "metadata": {},
     "output_type": "display_data"
    },
    {
     "name": "stdout",
     "output_type": "stream",
     "text": [
      "Step 680: Loss: 0.5898, LR: 0.0000015\n",
      "Step 700: Loss: 0.5980, LR: 0.0000012\n"
     ]
    },
    {
     "data": {
      "application/vnd.jupyter.widget-view+json": {
       "model_id": "d4b52ce50c3349b9b7450f06f234dbed",
       "version_major": 2,
       "version_minor": 0
      },
      "text/plain": [
       "[Validating]:   0%|          | 0/5 [00:00<?, ?it/s]"
      ]
     },
     "metadata": {},
     "output_type": "display_data"
    },
    {
     "name": "stdout",
     "output_type": "stream",
     "text": [
      "Validation Loss: 1.0251, Validation Accuracy: 0.6688\n",
      "Epoch 19/20 - Teacher forcing probability: 0.1000\n"
     ]
    },
    {
     "data": {
      "application/vnd.jupyter.widget-view+json": {
       "model_id": "1599c142c1594f77a47d24e25cf4cdb2",
       "version_major": 2,
       "version_minor": 0
      },
      "text/plain": [
       "Epoch 19/20 [Training]:   0%|          | 0/39 [00:00<?, ?it/s]"
      ]
     },
     "metadata": {},
     "output_type": "display_data"
    },
    {
     "name": "stdout",
     "output_type": "stream",
     "text": [
      "Step 720: Loss: 0.7020, LR: 0.0000009\n",
      "Step 740: Loss: 0.5377, LR: 0.0000006\n",
      "Epoch 20/20 - Teacher forcing probability: 0.0500\n"
     ]
    },
    {
     "data": {
      "application/vnd.jupyter.widget-view+json": {
       "model_id": "a030138f252d4bee885d216c65042cc6",
       "version_major": 2,
       "version_minor": 0
      },
      "text/plain": [
       "Epoch 20/20 [Training]:   0%|          | 0/39 [00:00<?, ?it/s]"
      ]
     },
     "metadata": {},
     "output_type": "display_data"
    },
    {
     "name": "stdout",
     "output_type": "stream",
     "text": [
      "Step 760: Loss: 0.7885, LR: 0.0000003\n",
      "Step 780: Loss: 0.5904, LR: 0.0000000\n",
      "Training complete! Best validation accuracy: 0.7078\n"
     ]
    }
   ],
   "source": [
    "from transformers import AutoModelForSequenceClassification\n",
    "import torch\n",
    "import numpy as np\n",
    "from sklearn.metrics import accuracy_score, f1_score\n",
    "from tqdm.notebook import tqdm\n",
    "from transformers import get_linear_schedule_with_warmup\n",
    "import torch.nn as nn\n",
    "\n",
    "# Set device\n",
    "device = torch.device(\"cuda\" if torch.cuda.is_available() else \"cpu\")\n",
    "print(f\"Using device: {device}\")\n",
    "model = model.to(device)\n",
    "\n",
    "# Initialize exposure bias mitigator\n",
    "exposure_mitigator = ExposureBiasMitigator(model, device, len(id2labels), decay_rate=0.05)\n",
    "\n",
    "# Define optimizer and learning rate\n",
    "learning_rate = 1e-5\n",
    "# Define number of epochs\n",
    "num_epochs = 20\n",
    "optimizer = torch.optim.AdamW(model.parameters(), lr=learning_rate, weight_decay=0.01)\n",
    "\n",
    "# Add learning rate scheduler to improve training stability\n",
    "total_steps = len(train_dataloader) * num_epochs\n",
    "scheduler = get_linear_schedule_with_warmup(\n",
    "    optimizer,\n",
    "    num_warmup_steps=100,  # Warmup steps\n",
    "    num_training_steps=total_steps\n",
    ")\n",
    "\n",
    "\n",
    "\n",
    "# Validation interval\n",
    "val_interval = 100\n",
    "\n",
    "# Logging interval\n",
    "log_interval = 20\n",
    "\n",
    "# Define label smoothing loss function\n",
    "criterion = LabelSmoothingLoss(classes=len(id2labels), smoothing=0.1)\n",
    "\n",
    "# Training loop\n",
    "best_val_acc = 0.0\n",
    "best_model_state = None\n",
    "\n",
    "step = 0\n",
    "model.train()\n",
    "# Training phase\n",
    "\n",
    "for epoch in range(num_epochs):\n",
    "\n",
    "    # if step > 120:\n",
    "    #         break\n",
    "    # Update teacher forcing probability\n",
    "    tf_prob = exposure_mitigator.update_teacher_forcing_prob(epoch)\n",
    "    print(f\"Epoch {epoch+1}/{num_epochs} - Teacher forcing probability: {tf_prob:.4f}\")\n",
    "    \n",
    "    progress_bar = tqdm(train_dataloader, desc=f\"Epoch {epoch+1}/{num_epochs} [Training]\")\n",
    "    for batch in progress_bar:\n",
    "        # if step > 120:\n",
    "        #     break\n",
    "\n",
    "        # Move batch to device\n",
    "        input_ids = batch['input_ids'].to(device)\n",
    "        attention_mask = batch['attention_mask'].to(device)\n",
    "        labels = batch['labels'].to(device)\n",
    "        \n",
    "        # Forward pass\n",
    "        optimizer.zero_grad()\n",
    "        # outputs = model(input_ids=input_ids, attention_mask=attention_mask)\n",
    "        # logits = outputs.logits\n",
    "        exposure_mitigator.training = True\n",
    "        logits = exposure_mitigator.forward_with_scheduled_sampling(\n",
    "            input_ids=input_ids, \n",
    "            attention_mask=attention_mask, \n",
    "            labels=labels\n",
    "        )\n",
    "\n",
    "        # Use label smoothing loss\n",
    "        loss = criterion(logits, labels)\n",
    "        \n",
    "        # Backward pass\n",
    "        loss.backward()\n",
    "        \n",
    "\n",
    "         # Gradient clipping to prevent gradient explosion\n",
    "        torch.nn.utils.clip_grad_norm_(model.parameters(), 1.0)\n",
    "        optimizer.step()\n",
    "        scheduler.step()\n",
    "        \n",
    "        # Update progress bar\n",
    "        progress_bar.set_postfix({\"loss\": loss.item(), \"lr\": scheduler.get_last_lr()[0]})\n",
    "        step += 1\n",
    "\n",
    "        if step % log_interval == 0:\n",
    "            print(f\"Step {step}: Loss: {loss.item():.4f}, LR: {scheduler.get_last_lr()[0]:.7f}\")\n",
    "\n",
    "        # Validation phase\n",
    "        if step % val_interval == 0:\n",
    "            # Set exposure mitigator to eval mode\n",
    "            exposure_mitigator.training = False\n",
    "            val_loss, val_accuracy = validate_model_with_exposure_mitigation(\n",
    "                model, exposure_mitigator, dev_dataloader, device, criterion\n",
    "            )\n",
    "            print(f\"Validation Loss: {val_loss:.4f}, Validation Accuracy: {val_accuracy:.4f}\")\n",
    "\n",
    "            # Save best model based on validation F1\n",
    "            if val_accuracy > best_val_acc:\n",
    "                best_val_acc = val_accuracy\n",
    "                print(f\"New best model found! Validation Accuracy: {val_accuracy:.4f}\")\n",
    "                # Save the model state\n",
    "                torch.save(model.state_dict(), \"best_classification_model.pth\")\n",
    "                # Early stopping if accuracy reaches high threshold\n",
    "                if val_accuracy > 0.75:\n",
    "                    print(f\"Reached high accuracy ({val_accuracy:.4f}). Early stopping.\")\n",
    "                    break\n",
    "\n",
    "print(f\"Training complete! Best validation accuracy: {best_val_acc:.4f}\")\n"
   ]
  },
  {
   "cell_type": "markdown",
   "metadata": {
    "id": "EzGuzHPE87Ya"
   },
   "source": [
    "# 3.Testing and Evaluation\n",
    "(You can add as many code blocks and text blocks as you need. However, YOU SHOULD NOT MODIFY the section title)"
   ]
  },
  {
   "cell_type": "code",
   "execution_count": 11,
   "metadata": {
    "id": "6ZVeNYIH9IaL"
   },
   "outputs": [
    {
     "name": "stdout",
     "output_type": "stream",
     "text": [
      "Running Homogeneous Ensemble...\n",
      "Loading model: distilbert-base-uncased\n"
     ]
    },
    {
     "name": "stderr",
     "output_type": "stream",
     "text": [
      "Some weights of DistilBertForSequenceClassification were not initialized from the model checkpoint at distilbert-base-uncased and are newly initialized: ['classifier.bias', 'classifier.weight', 'pre_classifier.bias', 'pre_classifier.weight']\n",
      "You should probably TRAIN this model on a down-stream task to be able to use it for predictions and inference.\n"
     ]
    },
    {
     "name": "stdout",
     "output_type": "stream",
     "text": [
      "Run 1/3\n"
     ]
    },
    {
     "name": "stderr",
     "output_type": "stream",
     "text": [
      "Evaluating run 1: 100%|██████████| 5/5 [00:00<00:00, 14.05it/s]\n"
     ]
    },
    {
     "name": "stdout",
     "output_type": "stream",
     "text": [
      "Run 2/3\n"
     ]
    },
    {
     "name": "stderr",
     "output_type": "stream",
     "text": [
      "Evaluating run 2: 100%|██████████| 5/5 [00:00<00:00, 13.95it/s]\n"
     ]
    },
    {
     "name": "stdout",
     "output_type": "stream",
     "text": [
      "Run 3/3\n"
     ]
    },
    {
     "name": "stderr",
     "output_type": "stream",
     "text": [
      "Evaluating run 3: 100%|██████████| 5/5 [00:00<00:00, 14.11it/s]\n"
     ]
    },
    {
     "name": "stdout",
     "output_type": "stream",
     "text": [
      "\n",
      "Prediction Distribution:\n",
      "Counter({'NOT_ENOUGH_INFO': 112, 'SUPPORTS': 37, 'DISPUTED': 4})\n"
     ]
    },
    {
     "data": {
      "image/png": "[encoded data removed]",
      "text/plain": [
       "<Figure size 1000x600 with 1 Axes>"
      ]
     },
     "metadata": {},
     "output_type": "display_data"
    },
    {
     "name": "stdout",
     "output_type": "stream",
     "text": [
      "\n",
      "Results saved to classification_results.json\n"
     ]
    }
   ],
   "source": [
    "import json\n",
    "from tqdm import tqdm\n",
    "from sklearn.metrics import accuracy_score, classification_report\n",
    "\n",
    "# Define model to use\n",
    "model_name = \"distilbert-base-uncased\"  # Use the model you've trained with\n",
    "\n",
    "# Set device\n",
    "device = torch.device(\"cuda\" if torch.cuda.is_available() else \"cpu\")\n",
    "\n",
    "# Create ensemble classifier\n",
    "ensemble = EnsembleClassifier([model_name], device, num_labels=len(id2labels))\n",
    "\n",
    "# Run homogeneous ensemble\n",
    "print(\"Running Homogeneous Ensemble...\")\n",
    "predictions = ensemble.homogeneous_ensemble(\n",
    "    test_dataloader,\n",
    "    model_name=model_name,\n",
    "    model_checkpoint=\"best_classification_model.pth\",\n",
    "    num_runs=3\n",
    ")\n",
    "predicted_labels = [id2labels[pred] for pred in predictions]\n",
    "\n",
    "# Visualize results\n",
    "try:\n",
    "    import matplotlib.pyplot as plt\n",
    "    import seaborn as sns\n",
    "    \n",
    "    # If ground truth is available\n",
    "    if 'ground_truth' in locals() and ground_truth:\n",
    "        # Convert labels to IDs\n",
    "        label2id = {v: k for k, v in id2labels.items()}\n",
    "        gt_ids = [label2id[label] for label in ground_truth]\n",
    "        \n",
    "        # Calculate confusion matrix\n",
    "        from sklearn.metrics import confusion_matrix\n",
    "        cm = confusion_matrix(gt_ids, predictions)\n",
    "        \n",
    "        # Plot confusion matrix\n",
    "        plt.figure(figsize=(10, 8))\n",
    "        sns.heatmap(cm, annot=True, fmt='d', cmap='Blues',\n",
    "                   xticklabels=list(id2labels.values()),\n",
    "                   yticklabels=list(id2labels.values()))\n",
    "        plt.xlabel('Predicted Labels')\n",
    "        plt.ylabel('True Labels')\n",
    "        plt.title('Homogeneous Ensemble Confusion Matrix')\n",
    "        plt.tight_layout()\n",
    "        plt.savefig('homogeneous_confusion_matrix.png', dpi=300)\n",
    "        plt.show()\n",
    "        \n",
    "        # Print classification report\n",
    "        print(\"\\nClassification Report:\")\n",
    "        print(classification_report(gt_ids, predictions, target_names=list(id2labels.values())))\n",
    "    else:\n",
    "        # Just show prediction distribution\n",
    "        from collections import Counter\n",
    "        print(\"\\nPrediction Distribution:\")\n",
    "        print(Counter(predicted_labels))\n",
    "        \n",
    "        # Plot distribution\n",
    "        plt.figure(figsize=(10, 6))\n",
    "        counter = Counter(predicted_labels)\n",
    "        plt.bar(counter.keys(), counter.values())\n",
    "        plt.title('Prediction Distribution')\n",
    "        plt.xlabel('Class')\n",
    "        plt.ylabel('Count')\n",
    "        plt.savefig('prediction_distribution.png', dpi=300)\n",
    "        plt.show()\n",
    "        \n",
    "except ImportError:\n",
    "    print(\"Could not generate visualization (matplotlib or seaborn not available)\")\n",
    "\n",
    "# Create results dictionary\n",
    "results = {}\n",
    "for i, test_id in enumerate(test_ids):\n",
    "    results[test_id] = {\n",
    "        'claim_text': test_claims[test_id]['claim_text'],\n",
    "        'claim_label': predicted_labels[i],\n",
    "        'evidences': test_claims[test_id]['evidences']\n",
    "    }\n",
    "\n",
    "# Save results to file\n",
    "with open('classification_results.json', 'w') as f:\n",
    "    json.dump(results, f, indent=4)\n",
    "\n",
    "print(\"\\nResults saved to classification_results.json\")"
   ]
  },
  {
   "cell_type": "markdown",
   "metadata": {
    "id": "mefSOe8eTmGP"
   },
   "source": [
    "## Object Oriented Programming codes here\n",
    "\n",
    "*You can use multiple code snippets. Just add more if needed*"
   ]
  }
 ],
 "metadata": {
  "colab": {
   "provenance": [],
   "toc_visible": true
  },
  "kernelspec": {
   "display_name": "Python 3 (ipykernel)",
   "language": "python",
   "name": "python3"
  },
  "language_info": {
   "codemirror_mode": {
    "name": "ipython",
    "version": 3
   },
   "file_extension": ".py",
   "mimetype": "text/x-python",
   "name": "python",
   "nbconvert_exporter": "python",
   "pygments_lexer": "ipython3",
   "version": "3.10.8"
  }
 },
 "nbformat": 4,
 "nbformat_minor": 4
}
