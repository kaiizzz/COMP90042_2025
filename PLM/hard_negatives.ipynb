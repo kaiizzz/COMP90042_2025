{
 "cells": [
  {
   "cell_type": "code",
   "execution_count": 1,
   "metadata": {
    "colab": {
     "base_uri": "https://localhost:8080/"
    },
    "id": "HLy1Ijgo2LOO",
    "outputId": "042224de-5446-4a40-d2fa-8a94db9274c4"
   },
   "outputs": [
    {
     "name": "stdout",
     "output_type": "stream",
     "text": [
      "Mounted at /content/drive\n"
     ]
    }
   ],
   "source": [
    "from google.colab import drive\n",
    "drive.mount('/content/drive')"
   ]
  },
  {
   "cell_type": "code",
   "execution_count": 5,
   "metadata": {
    "colab": {
     "base_uri": "https://localhost:8080/"
    },
    "id": "2IbAbQ7S1_9i",
    "outputId": "5ceb5ba7-d9c2-493f-d72b-ccb94fafbc65"
   },
   "outputs": [
    {
     "name": "stderr",
     "output_type": "stream",
     "text": [
      "[nltk_data] Downloading package stopwords to\n",
      "[nltk_data]     C:\\Users\\Rasindu\\AppData\\Roaming\\nltk_data...\n",
      "[nltk_data]   Package stopwords is already up-to-date!\n",
      "[nltk_data] Downloading package punkt to\n",
      "[nltk_data]     C:\\Users\\Rasindu\\AppData\\Roaming\\nltk_data...\n",
      "[nltk_data]   Package punkt is already up-to-date!\n",
      "[nltk_data] Downloading package punkt_tab to\n",
      "[nltk_data]     C:\\Users\\Rasindu\\AppData\\Roaming\\nltk_data...\n",
      "[nltk_data]   Package punkt_tab is already up-to-date!\n"
     ]
    },
    {
     "name": "stdout",
     "output_type": "stream",
     "text": [
      "Training TF-IDF vectorizer...\n",
      "Transforming evidence texts...\n"
     ]
    },
    {
     "name": "stderr",
     "output_type": "stream",
     "text": [
      "c:\\Users\\Rasindu\\anaconda3\\Lib\\site-packages\\sklearn\\feature_extraction\\text.py:525: UserWarning: The parameter 'token_pattern' will not be used since 'tokenizer' is not None'\n",
      "  warnings.warn(\n"
     ]
    },
    {
     "name": "stdout",
     "output_type": "stream",
     "text": [
      "Generating hard negatives...\n"
     ]
    },
    {
     "name": "stderr",
     "output_type": "stream",
     "text": [
      "100%|██████████| 13/13 [05:19<00:00, 24.59s/it]\n"
     ]
    },
    {
     "name": "stdout",
     "output_type": "stream",
     "text": [
      "Hard negatives saved to: data\\hard_negatives.json\n"
     ]
    }
   ],
   "source": [
    "import json\n",
    "import os\n",
    "import numpy as np\n",
    "from sklearn.feature_extraction.text import TfidfVectorizer\n",
    "from sklearn.metrics.pairwise import cosine_similarity\n",
    "from nltk.tokenize import word_tokenize\n",
    "from nltk.corpus import stopwords\n",
    "import nltk\n",
    "from tqdm import tqdm\n",
    "\n",
    "# Load data\n",
    "data_dir = \"data\"\n",
    "train_claims_file = os.path.join(data_dir, \"train-claims.json\")\n",
    "evidence_file = os.path.join(data_dir, \"evidence.json\")\n",
    "\n",
    "# Load training data and evidence\n",
    "with open(train_claims_file, 'r') as f:\n",
    "    train_claims = json.load(f)\n",
    "with open(evidence_file, 'r') as f:\n",
    "    evidence = json.load(f)\n",
    "\n",
    "# Text preprocessing\n",
    "nltk.download('stopwords')\n",
    "nltk.download('punkt')\n",
    "nltk.download('punkt_tab')\n",
    "stop_words = set(stopwords.words('english'))\n",
    "\n",
    "def text_tokenizer(text):\n",
    "    \"\"\"Tokenize and remove stopwords\"\"\"\n",
    "    tokens = word_tokenize(text.lower())\n",
    "    tokens = [token for token in tokens if token not in stop_words]\n",
    "    return tokens\n",
    "\n",
    "# Initialize TF-IDF\n",
    "print(\"Training TF-IDF vectorizer...\")\n",
    "tfidf_vectorizer = TfidfVectorizer(\n",
    "    max_features=5000,\n",
    "    tokenizer=text_tokenizer\n",
    ")\n",
    "\n",
    "# Prepare evidence data\n",
    "evidence_ids = list(evidence.keys())\n",
    "evidence_texts = [evidence[eid] for eid in evidence_ids]\n",
    "\n",
    "# Train TF-IDF and transform evidence\n",
    "print(\"Transforming evidence texts...\")\n",
    "evidence_vectors = tfidf_vectorizer.fit_transform(evidence_texts)\n",
    "\n",
    "# Find hard negatives for each claim\n",
    "print(\"Generating hard negatives...\")\n",
    "claim_to_hard_negatives = {}\n",
    "batch_size = 100\n",
    "initial_pool_size = 100  # Get top 100 most similar first\n",
    "top_k = 100  # Save top 50 hard negatives per claim\n",
    "\n",
    "for i in tqdm(range(0, len(train_claims), batch_size)):\n",
    "    batch_claims = list(train_claims.items())[i:i+batch_size]\n",
    "    \n",
    "    for claim_id, claim in batch_claims:\n",
    "        # Get claim TF-IDF vector\n",
    "        claim_vector = tfidf_vectorizer.transform([claim['claim_text']])\n",
    "        \n",
    "        # Calculate similarities with all evidence\n",
    "        similarities = cosine_similarity(claim_vector, evidence_vectors)[0]\n",
    "        \n",
    "        # Get top similar evidence\n",
    "        top_indices = np.argsort(-similarities)[:initial_pool_size]  # First get top 100 most similar\n",
    "        \n",
    "        # Filter out hard negatives\n",
    "        hard_negatives = []\n",
    "        for idx in top_indices:\n",
    "            evidence_id = evidence_ids[idx]\n",
    "            if evidence_id not in claim['evidences']:  # If not in positive samples\n",
    "                hard_negatives.append({\n",
    "                    'evidence_id': evidence_id,\n",
    "                    'similarity': float(similarities[idx])\n",
    "                })\n",
    "            if len(hard_negatives) >= top_k:\n",
    "                break\n",
    "        \n",
    "        claim_to_hard_negatives[claim_id] = hard_negatives\n",
    "\n",
    "# Save both full and medium difficulty results\n",
    "output_file = os.path.join(data_dir, \"hard_negatives.json\")\n",
    "with open(output_file, 'w') as f:\n",
    "    json.dump(claim_to_hard_negatives, f, indent=4)\n",
    "\n",
    "print(f\"Hard negatives saved to: {output_file}\")"
   ]
  }
 ],
 "metadata": {
  "accelerator": "GPU",
  "colab": {
   "gpuType": "T4",
   "provenance": []
  },
  "kernelspec": {
   "display_name": "base",
   "language": "python",
   "name": "python3"
  },
  "language_info": {
   "codemirror_mode": {
    "name": "ipython",
    "version": 3
   },
   "file_extension": ".py",
   "mimetype": "text/x-python",
   "name": "python",
   "nbconvert_exporter": "python",
   "pygments_lexer": "ipython3",
   "version": "3.12.3"
  }
 },
 "nbformat": 4,
 "nbformat_minor": 4
}
