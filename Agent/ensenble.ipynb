{
 "cells": [
  {
   "cell_type": "markdown",
   "id": "ace88b54",
   "metadata": {},
   "source": [
    "### **First Stage Sentence Retrieval using SBERT**"
   ]
  },
  {
   "cell_type": "code",
   "execution_count": 30,
   "id": "d89a5d36",
   "metadata": {},
   "outputs": [],
   "source": [
    "from sentence_transformers import SentenceTransformer\n",
    "import pandas as pd\n",
    "from sklearn.metrics.pairwise import cosine_similarity\n"
   ]
  },
  {
   "cell_type": "code",
   "execution_count": 31,
   "id": "5af3e540",
   "metadata": {},
   "outputs": [],
   "source": [
    "import json\n",
    "\n",
    "# Load datasets\n",
    "path = 'data/'\n",
    "\n",
    "with open(path+\"train-claims.json\", \"r\") as f:\n",
    "    train_claims = json.load(f)\n",
    "\n",
    "train_df = pd.DataFrame(train_claims).transpose()\n",
    "\n",
    "with open(path+\"dev-claims.json\", \"r\") as f:\n",
    "    dev_claims = json.load(f)\n",
    "dev_df = pd.DataFrame(dev_claims).transpose()\n",
    "\n",
    "with open(path+\"evidence.json\", \"r\") as f:\n",
    "    evidence = json.load(f)\n",
    "evidence_df = pd.DataFrame(list(evidence.items()), columns=[\"key\", \"value\"])"
   ]
  },
  {
   "cell_type": "code",
   "execution_count": 32,
   "id": "2e4a7401",
   "metadata": {},
   "outputs": [],
   "source": [
    "# Load model\n",
    "model1 = SentenceTransformer('sbert_model')\n",
    "model2 = SentenceTransformer('sbert_model2')\n",
    "model3 = SentenceTransformer('sbert_model3')"
   ]
  },
  {
   "cell_type": "code",
   "execution_count": 33,
   "id": "0f5a40b4",
   "metadata": {},
   "outputs": [
    {
     "data": {
      "application/vnd.jupyter.widget-view+json": {
       "model_id": "b411d862f5c148bfac786c0574c1f515",
       "version_major": 2,
       "version_minor": 0
      },
      "text/plain": [
       "Batches:   0%|          | 0/37776 [00:00<?, ?it/s]"
      ]
     },
     "metadata": {},
     "output_type": "display_data"
    },
    {
     "data": {
      "application/vnd.jupyter.widget-view+json": {
       "model_id": "c01268126790475bb4a8ecd171bb8d23",
       "version_major": 2,
       "version_minor": 0
      },
      "text/plain": [
       "Batches:   0%|          | 0/37776 [00:00<?, ?it/s]"
      ]
     },
     "metadata": {},
     "output_type": "display_data"
    },
    {
     "data": {
      "application/vnd.jupyter.widget-view+json": {
       "model_id": "ecafe3d251b34bb8bbebc34c1ebfd6b3",
       "version_major": 2,
       "version_minor": 0
      },
      "text/plain": [
       "Batches:   0%|          | 0/37776 [00:00<?, ?it/s]"
      ]
     },
     "metadata": {},
     "output_type": "display_data"
    }
   ],
   "source": [
    "embeddings1 = model1.encode(evidence_df['value'].tolist(), show_progress_bar=True, device='cuda')\n",
    "embeddings2 = model2.encode(evidence_df['value'].tolist(), show_progress_bar=True, device='cuda')\n",
    "embeddings3 = model3.encode(evidence_df['value'].tolist(), show_progress_bar=True, device='cuda')"
   ]
  },
  {
   "cell_type": "code",
   "execution_count": 34,
   "id": "c01c8f52",
   "metadata": {},
   "outputs": [
    {
     "data": {
      "application/vnd.jupyter.widget-view+json": {
       "model_id": "d67f189057244b619a20b03983f36d53",
       "version_major": 2,
       "version_minor": 0
      },
      "text/plain": [
       "Batches:   0%|          | 0/5 [00:00<?, ?it/s]"
      ]
     },
     "metadata": {},
     "output_type": "display_data"
    },
    {
     "data": {
      "application/vnd.jupyter.widget-view+json": {
       "model_id": "9940414917a44cb2bc37ad1936dddbbc",
       "version_major": 2,
       "version_minor": 0
      },
      "text/plain": [
       "Batches:   0%|          | 0/5 [00:00<?, ?it/s]"
      ]
     },
     "metadata": {},
     "output_type": "display_data"
    },
    {
     "data": {
      "application/vnd.jupyter.widget-view+json": {
       "model_id": "0d03a9dd3d744ff593f881818e39fb43",
       "version_major": 2,
       "version_minor": 0
      },
      "text/plain": [
       "Batches:   0%|          | 0/5 [00:00<?, ?it/s]"
      ]
     },
     "metadata": {},
     "output_type": "display_data"
    }
   ],
   "source": [
    "claim_embeddings1 = model1.encode(dev_df['claim_text'].tolist(), show_progress_bar=True, device='cuda')\n",
    "claim_embeddings2 = model2.encode(dev_df['claim_text'].tolist(), show_progress_bar=True, device='cuda')\n",
    "claim_embeddings3 = model3.encode(dev_df['claim_text'].tolist(), show_progress_bar=True, device='cuda')"
   ]
  },
  {
   "cell_type": "code",
   "execution_count": null,
   "id": "6d87cb18",
   "metadata": {},
   "outputs": [
    {
     "ename": "RuntimeError",
     "evalue": "mat1 and mat2 shapes cannot be multiplied (154x768 and 384x768)",
     "output_type": "error",
     "traceback": [
      "\u001b[1;31m---------------------------------------------------------------------------\u001b[0m",
      "\u001b[1;31mRuntimeError\u001b[0m                              Traceback (most recent call last)",
      "Cell \u001b[1;32mIn[48], line 7\u001b[0m\n\u001b[0;32m      4\u001b[0m projector_384_to_768 \u001b[38;5;241m=\u001b[39m nn\u001b[38;5;241m.\u001b[39mLinear(\u001b[38;5;241m384\u001b[39m, \u001b[38;5;241m768\u001b[39m)\n\u001b[0;32m      6\u001b[0m claim3_tensor \u001b[38;5;241m=\u001b[39m torch\u001b[38;5;241m.\u001b[39mtensor(claim_embeddings3, dtype\u001b[38;5;241m=\u001b[39mtorch\u001b[38;5;241m.\u001b[39mfloat32)  \u001b[38;5;66;03m# correct one!\u001b[39;00m\n\u001b[1;32m----> 7\u001b[0m claim3_proj \u001b[38;5;241m=\u001b[39m \u001b[43mprojector_384_to_768\u001b[49m\u001b[43m(\u001b[49m\u001b[43mclaim3_tensor\u001b[49m\u001b[43m)\u001b[49m\n\u001b[0;32m      9\u001b[0m claim2_tensor \u001b[38;5;241m=\u001b[39m torch\u001b[38;5;241m.\u001b[39mtensor(claim_embeddings2, dtype\u001b[38;5;241m=\u001b[39mtorch\u001b[38;5;241m.\u001b[39mfloat32)\n\u001b[0;32m     10\u001b[0m claim_combined \u001b[38;5;241m=\u001b[39m (claim2_tensor \u001b[38;5;241m+\u001b[39m claim3_proj) \u001b[38;5;241m/\u001b[39m \u001b[38;5;241m2\u001b[39m\n",
      "File \u001b[1;32m~\\AppData\\Local\\Packages\\PythonSoftwareFoundation.Python.3.10_qbz5n2kfra8p0\\LocalCache\\local-packages\\Python310\\site-packages\\torch\\nn\\modules\\module.py:1751\u001b[0m, in \u001b[0;36mModule._wrapped_call_impl\u001b[1;34m(self, *args, **kwargs)\u001b[0m\n\u001b[0;32m   1749\u001b[0m     \u001b[38;5;28;01mreturn\u001b[39;00m \u001b[38;5;28mself\u001b[39m\u001b[38;5;241m.\u001b[39m_compiled_call_impl(\u001b[38;5;241m*\u001b[39margs, \u001b[38;5;241m*\u001b[39m\u001b[38;5;241m*\u001b[39mkwargs)  \u001b[38;5;66;03m# type: ignore[misc]\u001b[39;00m\n\u001b[0;32m   1750\u001b[0m \u001b[38;5;28;01melse\u001b[39;00m:\n\u001b[1;32m-> 1751\u001b[0m     \u001b[38;5;28;01mreturn\u001b[39;00m \u001b[38;5;28mself\u001b[39m\u001b[38;5;241m.\u001b[39m_call_impl(\u001b[38;5;241m*\u001b[39margs, \u001b[38;5;241m*\u001b[39m\u001b[38;5;241m*\u001b[39mkwargs)\n",
      "File \u001b[1;32m~\\AppData\\Local\\Packages\\PythonSoftwareFoundation.Python.3.10_qbz5n2kfra8p0\\LocalCache\\local-packages\\Python310\\site-packages\\torch\\nn\\modules\\module.py:1762\u001b[0m, in \u001b[0;36mModule._call_impl\u001b[1;34m(self, *args, **kwargs)\u001b[0m\n\u001b[0;32m   1757\u001b[0m \u001b[38;5;66;03m# If we don't have any hooks, we want to skip the rest of the logic in\u001b[39;00m\n\u001b[0;32m   1758\u001b[0m \u001b[38;5;66;03m# this function, and just call forward.\u001b[39;00m\n\u001b[0;32m   1759\u001b[0m \u001b[38;5;28;01mif\u001b[39;00m \u001b[38;5;129;01mnot\u001b[39;00m (\u001b[38;5;28mself\u001b[39m\u001b[38;5;241m.\u001b[39m_backward_hooks \u001b[38;5;129;01mor\u001b[39;00m \u001b[38;5;28mself\u001b[39m\u001b[38;5;241m.\u001b[39m_backward_pre_hooks \u001b[38;5;129;01mor\u001b[39;00m \u001b[38;5;28mself\u001b[39m\u001b[38;5;241m.\u001b[39m_forward_hooks \u001b[38;5;129;01mor\u001b[39;00m \u001b[38;5;28mself\u001b[39m\u001b[38;5;241m.\u001b[39m_forward_pre_hooks\n\u001b[0;32m   1760\u001b[0m         \u001b[38;5;129;01mor\u001b[39;00m _global_backward_pre_hooks \u001b[38;5;129;01mor\u001b[39;00m _global_backward_hooks\n\u001b[0;32m   1761\u001b[0m         \u001b[38;5;129;01mor\u001b[39;00m _global_forward_hooks \u001b[38;5;129;01mor\u001b[39;00m _global_forward_pre_hooks):\n\u001b[1;32m-> 1762\u001b[0m     \u001b[38;5;28;01mreturn\u001b[39;00m forward_call(\u001b[38;5;241m*\u001b[39margs, \u001b[38;5;241m*\u001b[39m\u001b[38;5;241m*\u001b[39mkwargs)\n\u001b[0;32m   1764\u001b[0m result \u001b[38;5;241m=\u001b[39m \u001b[38;5;28;01mNone\u001b[39;00m\n\u001b[0;32m   1765\u001b[0m called_always_called_hooks \u001b[38;5;241m=\u001b[39m \u001b[38;5;28mset\u001b[39m()\n",
      "File \u001b[1;32m~\\AppData\\Local\\Packages\\PythonSoftwareFoundation.Python.3.10_qbz5n2kfra8p0\\LocalCache\\local-packages\\Python310\\site-packages\\torch\\nn\\modules\\linear.py:125\u001b[0m, in \u001b[0;36mLinear.forward\u001b[1;34m(self, input)\u001b[0m\n\u001b[0;32m    124\u001b[0m \u001b[38;5;28;01mdef\u001b[39;00m \u001b[38;5;21mforward\u001b[39m(\u001b[38;5;28mself\u001b[39m, \u001b[38;5;28minput\u001b[39m: Tensor) \u001b[38;5;241m-\u001b[39m\u001b[38;5;241m>\u001b[39m Tensor:\n\u001b[1;32m--> 125\u001b[0m     \u001b[38;5;28;01mreturn\u001b[39;00m \u001b[43mF\u001b[49m\u001b[38;5;241;43m.\u001b[39;49m\u001b[43mlinear\u001b[49m\u001b[43m(\u001b[49m\u001b[38;5;28;43minput\u001b[39;49m\u001b[43m,\u001b[49m\u001b[43m \u001b[49m\u001b[38;5;28;43mself\u001b[39;49m\u001b[38;5;241;43m.\u001b[39;49m\u001b[43mweight\u001b[49m\u001b[43m,\u001b[49m\u001b[43m \u001b[49m\u001b[38;5;28;43mself\u001b[39;49m\u001b[38;5;241;43m.\u001b[39;49m\u001b[43mbias\u001b[49m\u001b[43m)\u001b[49m\n",
      "\u001b[1;31mRuntimeError\u001b[0m: mat1 and mat2 shapes cannot be multiplied (154x768 and 384x768)"
     ]
    }
   ],
   "source": [
    "claim_combined = (claim_embeddings1 + claim_embeddings2 + claim_embeddings3) / 3\n",
    "evidence_combined = (embeddings1 + embeddings2 + embeddings3) / 3\n"
   ]
  },
  {
   "cell_type": "code",
   "execution_count": 37,
   "id": "4626075b",
   "metadata": {},
   "outputs": [],
   "source": [
    "from sklearn.metrics.pairwise import cosine_similarity\n",
    "\n",
    "similarity_matrix = cosine_similarity(claim_combined , evidence_combined)"
   ]
  },
  {
   "cell_type": "code",
   "execution_count": 38,
   "id": "31d3cd11",
   "metadata": {},
   "outputs": [],
   "source": [
    "import numpy as np\n",
    "# Get top 10000 evidence for each claim\n",
    "top_k = 100\n",
    "top_indices = np.argsort(-similarity_matrix, axis=1)[:, :top_k]  # sort descending, get top 100 indices"
   ]
  },
  {
   "cell_type": "code",
   "execution_count": 39,
   "id": "f6514c9c",
   "metadata": {},
   "outputs": [],
   "source": [
    "# Create new column with top evidence texts for each claim\n",
    "dev_df[\"top_{top_k}_evidence\"] = [\n",
    "    evidence_df.iloc[indices][\"key\"].tolist() for indices in top_indices\n",
    "]"
   ]
  },
  {
   "cell_type": "code",
   "execution_count": 41,
   "id": "546f5db3",
   "metadata": {},
   "outputs": [
    {
     "name": "stdout",
     "output_type": "stream",
     "text": [
      "Found 2 matches for gold standard 2\n",
      "Found 0 matches for gold standard 5\n",
      "Found 2 matches for gold standard 2\n",
      "Found 4 matches for gold standard 5\n",
      "Found 4 matches for gold standard 4\n",
      "Found 2 matches for gold standard 5\n",
      "Found 2 matches for gold standard 5\n",
      "Found 1 matches for gold standard 2\n",
      "Found 3 matches for gold standard 4\n",
      "Found 0 matches for gold standard 3\n",
      "Found 1 matches for gold standard 1\n",
      "Found 2 matches for gold standard 2\n",
      "Found 3 matches for gold standard 3\n",
      "Found 2 matches for gold standard 5\n",
      "Found 5 matches for gold standard 5\n",
      "Found 1 matches for gold standard 5\n",
      "Found 0 matches for gold standard 1\n",
      "Found 1 matches for gold standard 4\n",
      "Found 5 matches for gold standard 5\n",
      "Found 3 matches for gold standard 5\n",
      "Found 2 matches for gold standard 2\n",
      "Found 0 matches for gold standard 2\n",
      "Found 4 matches for gold standard 5\n",
      "Found 2 matches for gold standard 3\n",
      "Found 3 matches for gold standard 5\n",
      "Found 0 matches for gold standard 1\n",
      "Found 0 matches for gold standard 3\n",
      "Found 1 matches for gold standard 1\n",
      "Found 3 matches for gold standard 5\n",
      "Found 3 matches for gold standard 4\n",
      "Found 1 matches for gold standard 1\n",
      "Found 2 matches for gold standard 3\n",
      "Found 1 matches for gold standard 1\n",
      "Found 1 matches for gold standard 5\n",
      "Found 1 matches for gold standard 1\n",
      "Found 1 matches for gold standard 5\n",
      "Found 2 matches for gold standard 2\n",
      "Found 2 matches for gold standard 2\n",
      "Found 0 matches for gold standard 1\n",
      "Found 2 matches for gold standard 2\n",
      "Found 2 matches for gold standard 2\n",
      "Found 4 matches for gold standard 5\n",
      "Found 2 matches for gold standard 4\n",
      "Found 1 matches for gold standard 5\n",
      "Found 1 matches for gold standard 5\n",
      "Found 2 matches for gold standard 5\n",
      "Found 2 matches for gold standard 5\n",
      "Found 2 matches for gold standard 3\n",
      "Found 1 matches for gold standard 1\n",
      "Found 2 matches for gold standard 5\n",
      "Found 1 matches for gold standard 2\n",
      "Found 2 matches for gold standard 2\n",
      "Found 1 matches for gold standard 1\n",
      "Found 2 matches for gold standard 3\n",
      "Found 2 matches for gold standard 2\n",
      "Found 4 matches for gold standard 4\n",
      "Found 2 matches for gold standard 5\n",
      "Found 3 matches for gold standard 3\n",
      "Found 1 matches for gold standard 5\n",
      "Found 2 matches for gold standard 2\n",
      "Found 2 matches for gold standard 3\n",
      "Found 1 matches for gold standard 3\n",
      "Found 2 matches for gold standard 2\n",
      "Found 5 matches for gold standard 5\n",
      "Found 2 matches for gold standard 2\n",
      "Found 3 matches for gold standard 3\n",
      "Found 1 matches for gold standard 4\n",
      "Found 4 matches for gold standard 5\n",
      "Found 5 matches for gold standard 5\n",
      "Found 4 matches for gold standard 5\n",
      "Found 2 matches for gold standard 5\n",
      "Found 3 matches for gold standard 3\n",
      "Found 1 matches for gold standard 1\n",
      "Found 3 matches for gold standard 3\n",
      "Found 3 matches for gold standard 3\n",
      "Found 2 matches for gold standard 5\n",
      "Found 4 matches for gold standard 5\n",
      "Found 2 matches for gold standard 2\n",
      "Found 0 matches for gold standard 2\n",
      "Found 0 matches for gold standard 1\n",
      "Found 1 matches for gold standard 1\n",
      "Found 2 matches for gold standard 2\n",
      "Found 0 matches for gold standard 1\n",
      "Found 0 matches for gold standard 1\n",
      "Found 5 matches for gold standard 5\n",
      "Found 0 matches for gold standard 1\n",
      "Found 3 matches for gold standard 3\n",
      "Found 0 matches for gold standard 5\n",
      "Found 2 matches for gold standard 5\n",
      "Found 1 matches for gold standard 1\n",
      "Found 3 matches for gold standard 5\n",
      "Found 3 matches for gold standard 5\n",
      "Found 4 matches for gold standard 5\n",
      "Found 3 matches for gold standard 5\n",
      "Found 1 matches for gold standard 1\n",
      "Found 0 matches for gold standard 1\n",
      "Found 5 matches for gold standard 5\n",
      "Found 1 matches for gold standard 5\n",
      "Found 1 matches for gold standard 1\n",
      "Found 1 matches for gold standard 1\n",
      "Found 3 matches for gold standard 5\n",
      "Found 2 matches for gold standard 3\n",
      "Found 1 matches for gold standard 1\n",
      "Found 1 matches for gold standard 4\n",
      "Found 4 matches for gold standard 4\n",
      "Found 3 matches for gold standard 4\n",
      "Found 1 matches for gold standard 2\n",
      "Found 1 matches for gold standard 1\n",
      "Found 1 matches for gold standard 5\n",
      "Found 2 matches for gold standard 3\n",
      "Found 1 matches for gold standard 4\n",
      "Found 3 matches for gold standard 4\n",
      "Found 0 matches for gold standard 5\n",
      "Found 2 matches for gold standard 3\n",
      "Found 3 matches for gold standard 5\n",
      "Found 0 matches for gold standard 2\n",
      "Found 4 matches for gold standard 4\n",
      "Found 5 matches for gold standard 5\n",
      "Found 1 matches for gold standard 1\n",
      "Found 2 matches for gold standard 4\n",
      "Found 2 matches for gold standard 3\n",
      "Found 1 matches for gold standard 2\n",
      "Found 2 matches for gold standard 3\n",
      "Found 1 matches for gold standard 1\n",
      "Found 1 matches for gold standard 1\n",
      "Found 2 matches for gold standard 2\n",
      "Found 1 matches for gold standard 1\n",
      "Found 2 matches for gold standard 2\n",
      "Found 3 matches for gold standard 5\n",
      "Found 0 matches for gold standard 3\n",
      "Found 1 matches for gold standard 3\n",
      "Found 1 matches for gold standard 3\n",
      "Found 3 matches for gold standard 3\n",
      "Found 4 matches for gold standard 5\n",
      "Found 2 matches for gold standard 5\n",
      "Found 2 matches for gold standard 5\n",
      "Found 4 matches for gold standard 4\n",
      "Found 2 matches for gold standard 2\n",
      "Found 1 matches for gold standard 2\n",
      "Found 3 matches for gold standard 3\n",
      "Found 0 matches for gold standard 1\n",
      "Found 4 matches for gold standard 5\n",
      "Found 1 matches for gold standard 1\n",
      "Found 5 matches for gold standard 5\n",
      "Found 1 matches for gold standard 1\n",
      "Found 2 matches for gold standard 2\n",
      "Found 5 matches for gold standard 5\n",
      "Found 1 matches for gold standard 2\n",
      "Found 2 matches for gold standard 3\n",
      "Found 0 matches for gold standard 4\n",
      "Found 4 matches for gold standard 5\n",
      "Found 4 matches for gold standard 5\n",
      "Found 1 matches for gold standard 1\n",
      "Found 2 matches for gold standard 2\n",
      "Total matches: 308/491\n"
     ]
    }
   ],
   "source": [
    "total_matches = 0\n",
    "n = 0 \n",
    "for i in range(len(dev_df)):\n",
    "    k = 0\n",
    "    evidence_list = dev_df[\"evidences\"].iloc[i]\n",
    "    top_100_list = dev_df[\"top_{top_k}_evidence\"].iloc[i]\n",
    "\n",
    "    for ev in evidence_list:\n",
    "        if ev in top_100_list:\n",
    "            k += 1\n",
    "    print(f\"Found {k} matches for gold standard {len(evidence_list)}\")\n",
    "    n += len(evidence_list)\n",
    "    total_matches += k\n",
    "\n",
    "print(f\"Total matches: {total_matches}/{n}\")"
   ]
  }
 ],
 "metadata": {
  "kernelspec": {
   "display_name": "Python 3",
   "language": "python",
   "name": "python3"
  },
  "language_info": {
   "codemirror_mode": {
    "name": "ipython",
    "version": 3
   },
   "file_extension": ".py",
   "mimetype": "text/x-python",
   "name": "python",
   "nbconvert_exporter": "python",
   "pygments_lexer": "ipython3",
   "version": "3.10.11"
  }
 },
 "nbformat": 4,
 "nbformat_minor": 5
}
