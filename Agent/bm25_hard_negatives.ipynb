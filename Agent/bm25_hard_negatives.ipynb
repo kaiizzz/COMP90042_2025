{
 "cells": [
  {
   "cell_type": "code",
   "execution_count": null,
   "id": "c8704c03",
   "metadata": {},
   "outputs": [],
   "source": [
    "import json\n",
    "import pandas as pd\n",
    "import numpy as np\n",
    "\n",
    "# Load datasets\n",
    "path = 'data/processed/'\n",
    "\n",
    "with open(path+\"preprocessed_train.json\", \"r\") as f:\n",
    "    train_claims = json.load(f)\n",
    "\n",
    "train_df = pd.DataFrame(train_claims).transpose()\n",
    "\n",
    "with open(path+\"preprocessed_dev.json\", \"r\") as f:\n",
    "    dev_claims = json.load(f)\n",
    "dev_df = pd.DataFrame(dev_claims).transpose()\n",
    "\n",
    "with open(path+\"preprocessed_evidence.json\", \"r\") as f:\n",
    "    evidence = json.load(f)\n",
    "evidence_df = pd.DataFrame(evidence)"
   ]
  },
  {
   "cell_type": "code",
   "execution_count": null,
   "id": "4190a18e",
   "metadata": {},
   "outputs": [
    {
     "name": "stderr",
     "output_type": "stream",
     "text": [
      "1228it [41:09,  2.01s/it]\n"
     ]
    }
   ],
   "source": [
    "from rank_bm25 import BM25Okapi\n",
    "from tqdm import tqdm\n",
    "\n",
    "hard_negatives = {}\n",
    "positives = {}\n",
    "top_k = 100\n",
    "\n",
    "bm25 = BM25Okapi(evidence_df['value'].tolist())\n",
    "\n",
    "for claim_id, row in tqdm(train_df.iterrows()):\n",
    "    claim_text = row['claim_text']\n",
    "    \n",
    "    # Get top k from bm25\n",
    "    scores = bm25.get_scores(claim_text)\n",
    "    top_k_scores = (-scores).argsort()[:top_k]\n",
    "\n",
    "    hard_negatives[claim_id] = []\n",
    "    positives[claim_id] = row['evidences'] # positives are gold standard evidences\n",
    "\n",
    "    # Save hard negatives\n",
    "    for idx in top_k_scores:\n",
    "        if evidence_df['key'].iloc[idx] not in row['evidences']:\n",
    "            hard_negatives[claim_id].append(evidence_df['key'].iloc[idx])"
   ]
  },
  {
   "cell_type": "code",
   "execution_count": 42,
   "id": "c0eb2841",
   "metadata": {},
   "outputs": [],
   "source": [
    "hard_negatived_df = pd.DataFrame.from_dict(positives, orient='index')"
   ]
  },
  {
   "cell_type": "code",
   "execution_count": null,
   "id": "c7565ea7",
   "metadata": {},
   "outputs": [],
   "source": [
    "import os\n",
    "\n",
    "# Save hard negatives and positives\n",
    "\n",
    "path = \"data/training_data/\"\n",
    "if not os.path.exists(path):\n",
    "    os.makedirs(path)\n",
    "    print(f\"Created directory {path}\")\n",
    "\n",
    "with open(path+\"positives.json\", \"w\") as f:\n",
    "    f.write(json.dumps(positives, indent=4))\n",
    "\n",
    "with open(path+\"hard_negatives.json\", \"w\") as f:\n",
    "    f.write(json.dumps(hard_negatives, indent=4))"
   ]
  }
 ],
 "metadata": {
  "kernelspec": {
   "display_name": "base",
   "language": "python",
   "name": "python3"
  },
  "language_info": {
   "codemirror_mode": {
    "name": "ipython",
    "version": 3
   },
   "file_extension": ".py",
   "mimetype": "text/x-python",
   "name": "python",
   "nbconvert_exporter": "python",
   "pygments_lexer": "ipython3",
   "version": "3.12.3"
  }
 },
 "nbformat": 4,
 "nbformat_minor": 5
}
