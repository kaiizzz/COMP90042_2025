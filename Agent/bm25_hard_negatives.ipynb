{
 "cells": [
  {
   "cell_type": "code",
   "execution_count": 12,
   "id": "c8704c03",
   "metadata": {},
   "outputs": [],
   "source": [
    "import json\n",
    "import pandas as pd\n",
    "import numpy as np\n",
    "\n",
    "# Load datasets\n",
    "path = 'data/processed/'\n",
    "\n",
    "with open(path+\"preprocessed_train.json\", \"r\") as f:\n",
    "    train_claims = json.load(f)\n",
    "\n",
    "train_df = pd.DataFrame(train_claims).transpose()\n",
    "\n",
    "with open(path+\"preprocessed_dev.json\", \"r\") as f:\n",
    "    dev_claims = json.load(f)\n",
    "dev_df = pd.DataFrame(dev_claims).transpose()\n",
    "\n",
    "with open(path+\"preprocessed_evidence.json\", \"r\") as f:\n",
    "    evidence = json.load(f)\n",
    "evidence_df = pd.DataFrame(evidence)"
   ]
  },
  {
   "cell_type": "code",
   "execution_count": 13,
   "id": "4190a18e",
   "metadata": {},
   "outputs": [
    {
     "name": "stderr",
     "output_type": "stream",
     "text": [
      "1228it [42:27,  2.07s/it]\n"
     ]
    }
   ],
   "source": [
    "from rank_bm25 import BM25Okapi\n",
    "from tqdm import tqdm\n",
    "\n",
    "hard_negatives = {}\n",
    "positives = {}\n",
    "top_k = 15\n",
    "\n",
    "bm25 = BM25Okapi(evidence_df['value'].tolist())\n",
    "\n",
    "for claim_id, row in tqdm(train_df.iterrows()):\n",
    "    claim_text = row['claim_text']\n",
    "    \n",
    "    # Get top k from bm25\n",
    "    scores = bm25.get_scores(claim_text)\n",
    "    top_k_scores = (-scores).argsort()[:top_k]\n",
    "\n",
    "    hard_negatives[claim_id] = []\n",
    "    positives[claim_id] = row['evidences'] # positives are gold standard evidences\n",
    "\n",
    "    # Save hard negatives\n",
    "    for idx in top_k_scores:\n",
    "        if evidence_df['key'].iloc[idx] not in row['evidences']:\n",
    "            hard_negatives[claim_id].append(evidence_df['key'].iloc[idx])"
   ]
  },
  {
   "cell_type": "code",
   "execution_count": null,
   "id": "b88d3413",
   "metadata": {},
   "outputs": [],
   "source": [
    "for key in hard_negatives.keys():\n",
    "    if evidence_df['key']"
   ]
  },
  {
   "cell_type": "code",
   "execution_count": 23,
   "id": "c9d0d593",
   "metadata": {},
   "outputs": [],
   "source": [
    "path = 'data/'\n",
    "import json\n",
    "with open(path+\"evidence.json\", \"r\") as f:\n",
    "    evidence = dict(json.load(f))\n",
    "\n",
    "with open(\"data/training_data/hard_negatives.json\", \"r\") as f:\n",
    "    hard_negatives = dict(json.load(f))\n",
    "\n",
    "with open(path+\"train-claims.json\", \"r\") as f:\n",
    "    train_claims = dict(json.load(f))\n"
   ]
  },
  {
   "cell_type": "code",
   "execution_count": 13,
   "id": "d998c676",
   "metadata": {},
   "outputs": [
    {
     "name": "stdout",
     "output_type": "stream",
     "text": [
      "John Bennet Lawes, English entrepreneur and agricultural scientist\n"
     ]
    }
   ],
   "source": [
    "print(evidence['evidence-0'])"
   ]
  },
  {
   "cell_type": "code",
   "execution_count": 21,
   "id": "90efe6ae",
   "metadata": {},
   "outputs": [
    {
     "data": {
      "text/plain": [
       "'Higher atmospheric CO2 concentrations have led to an increase in dissolved CO2, which causes ocean acidification.'"
      ]
     },
     "execution_count": 21,
     "metadata": {},
     "output_type": "execute_result"
    }
   ],
   "source": [
    "evidence[ev]"
   ]
  },
  {
   "cell_type": "code",
   "execution_count": 30,
   "id": "23253e68",
   "metadata": {},
   "outputs": [],
   "source": [
    "for claim in hard_negatives.keys():\n",
    "    for ev in hard_negatives[claim]:\n",
    "        for gev in train_claims[claim]['evidences']:\n",
    "            if evidence[ev] == evidence[gev]:\n",
    "                print('yay')\n",
    "    "
   ]
  },
  {
   "cell_type": "code",
   "execution_count": 14,
   "id": "c7565ea7",
   "metadata": {},
   "outputs": [],
   "source": [
    "import os\n",
    "\n",
    "# Save hard negatives and positives\n",
    "\n",
    "path = \"data/training_data/\"\n",
    "if not os.path.exists(path):\n",
    "    os.makedirs(path)\n",
    "    print(f\"Created directory {path}\")\n",
    "\n",
    "with open(path+\"positives.json\", \"w\") as f:\n",
    "    f.write(json.dumps(positives, indent=4))\n",
    "\n",
    "with open(path+\"hard_negatives.json\", \"w\") as f:\n",
    "    f.write(json.dumps(hard_negatives, indent=4))"
   ]
  }
 ],
 "metadata": {
  "kernelspec": {
   "display_name": "base",
   "language": "python",
   "name": "python3"
  },
  "language_info": {
   "codemirror_mode": {
    "name": "ipython",
    "version": 3
   },
   "file_extension": ".py",
   "mimetype": "text/x-python",
   "name": "python",
   "nbconvert_exporter": "python",
   "pygments_lexer": "ipython3",
   "version": "3.12.3"
  }
 },
 "nbformat": 4,
 "nbformat_minor": 5
}
