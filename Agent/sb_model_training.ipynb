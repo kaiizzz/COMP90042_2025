{
 "cells": [
  {
   "cell_type": "code",
   "execution_count": 13,
   "id": "2fe01fd4",
   "metadata": {},
   "outputs": [],
   "source": [
    "import json\n",
    "import pandas as pd\n",
    "\n",
    "path = 'data/'\n",
    "\n",
    "with open(path+\"train-claims.json\", \"r\") as f:\n",
    "    train_claims = json.load(f)\n",
    "\n",
    "train_df = pd.DataFrame(train_claims).transpose()\n",
    "\n",
    "with open(path+\"dev-claims.json\", \"r\") as f:\n",
    "    dev_claims = json.load(f)\n",
    "dev_df = pd.DataFrame(dev_claims).transpose()\n",
    "\n",
    "with open(path+\"evidence.json\", \"r\") as f:\n",
    "    evidence = json.load(f)\n",
    "evidence_df = pd.DataFrame(list(evidence.items()), columns=[\"key\", \"value\"])"
   ]
  },
  {
   "cell_type": "code",
   "execution_count": 14,
   "id": "f97dd500",
   "metadata": {},
   "outputs": [
    {
     "name": "stdout",
     "output_type": "stream",
     "text": [
      "Dataset({\n",
      "    features: ['claim', 'evidence', 'label'],\n",
      "    num_rows: 8244\n",
      "})\n",
      "{'claim': 'Not only is there no scientific evidence that CO2 is a pollutant, higher CO2 concentrations actually help ecosystems support more plant and animal life.', 'evidence': 'At very high concentrations (100 times atmospheric concentration, or greater), carbon dioxide can be toxic to animal life, so raising the concentration to 10,000 ppm (1%) or higher for several hours will eliminate pests such as whiteflies and spider mites in a greenhouse.', 'label': 1}\n"
     ]
    }
   ],
   "source": [
    "from datasets import Dataset\n",
    "import random\n",
    "\n",
    "claims = []\n",
    "evidence_texts = []\n",
    "labels = []\n",
    "\n",
    "evidence_map = dict(evidence)\n",
    "evidence_ids = list(evidence_map.keys())\n",
    "\n",
    "for _, info in train_claims.items():\n",
    "    claim_text = info[\"claim_text\"]\n",
    "    positive_ids = info[\"evidences\"]\n",
    "\n",
    "    # Add positive (matched) examples\n",
    "    for eid in positive_ids:\n",
    "        if eid in evidence_map:\n",
    "            claims.append(claim_text)\n",
    "            evidence_texts.append(evidence_map[eid])\n",
    "            labels.append(1)\n",
    "\n",
    "    # Add negative (mismatched) examples\n",
    "    for _ in positive_ids:\n",
    "        while True:\n",
    "            neg_id = random.choice(evidence_ids)\n",
    "            if neg_id not in positive_ids:\n",
    "                claims.append(claim_text)\n",
    "                evidence_texts.append(evidence_map[neg_id])\n",
    "                labels.append(-1)\n",
    "                break\n",
    "\n",
    "# Convert to HuggingFace Dataset\n",
    "data = {\n",
    "    \"claim\": claims,\n",
    "    \"evidence\": evidence_texts,\n",
    "    \"label\": labels\n",
    "}\n",
    "\n",
    "dataset = Dataset.from_dict(data)\n",
    "\n",
    "# 🔍 Confirm structure\n",
    "print(dataset)\n",
    "print(dataset[0])\n"
   ]
  },
  {
   "cell_type": "code",
   "execution_count": null,
   "id": "e9a28d89",
   "metadata": {},
   "outputs": [
    {
     "name": "stdout",
     "output_type": "stream",
     "text": [
      "Dataset({\n",
      "    features: ['claim', 'evidence', 'label'],\n",
      "    num_rows: 982\n",
      "})\n",
      "{'claim': '[South Australia] has the most expensive electricity in the world.', 'evidence': '[citation needed] South Australia has the highest retail price for electricity in the country.', 'label': 1}\n"
     ]
    }
   ],
   "source": [
    "# ## evaluation dataset\n",
    "\n",
    "# claims = []\n",
    "# evidence_texts = []\n",
    "# labels = []\n",
    "# evidence_map = dict(evidence)\n",
    "# evidence_ids = list(evidence_map.keys())\n",
    "\n",
    "# for _, info in dev_claims.items():\n",
    "#     claim_text = info[\"claim_text\"]\n",
    "#     positive_ids = info[\"evidences\"]\n",
    "\n",
    "#     # Add positive (matched) examples\n",
    "#     for eid in positive_ids:\n",
    "#         if eid in evidence_map:\n",
    "#             claims.append(claim_text)\n",
    "#             evidence_texts.append(evidence_map[eid])\n",
    "#             labels.append(1)\n",
    "\n",
    "#     # Add negative (mismatched) examples\n",
    "#     for _ in positive_ids:\n",
    "#         while True:\n",
    "#             neg_id = random.choice(evidence_ids)\n",
    "#             if neg_id not in positive_ids:\n",
    "#                 claims.append(claim_text)\n",
    "#                 evidence_texts.append(evidence_map[neg_id])\n",
    "#                 labels.append(-1)\n",
    "#                 break\n",
    "\n",
    "# # Convert to HuggingFace Dataset\n",
    "# data = {\n",
    "#     \"claim\": claims,\n",
    "#     \"evidence\": evidence_texts,\n",
    "#     \"label\": labels\n",
    "# }\n",
    "\n",
    "# eval_dataset = Dataset.from_dict(data)\n",
    "\n",
    "# # 🔍 Confirm structure\n",
    "# print(eval_dataset)\n",
    "# print(eval_dataset[0])\n"
   ]
  },
  {
   "cell_type": "code",
   "execution_count": 16,
   "id": "8cdedcb8",
   "metadata": {},
   "outputs": [],
   "source": [
    "from datasets import load_dataset\n",
    "from sentence_transformers import SentenceTransformer\n",
    "from sentence_transformers.losses import CoSENTLoss\n",
    "\n",
    "model = SentenceTransformer('all-MiniLM-L6-v2')\n",
    "\n",
    "loss = CoSENTLoss(model)\n",
    "\n",
    "train_dataset = dataset"
   ]
  },
  {
   "cell_type": "code",
   "execution_count": 17,
   "id": "8b1c798c",
   "metadata": {},
   "outputs": [],
   "source": [
    "### todo: add evaluation dataset"
   ]
  },
  {
   "cell_type": "code",
   "execution_count": null,
   "id": "60407cce",
   "metadata": {},
   "outputs": [
    {
     "data": {
      "application/vnd.jupyter.widget-view+json": {
       "model_id": "b608b4358dcb40159bda5ab907b0e1c1",
       "version_major": 2,
       "version_minor": 0
      },
      "text/plain": [
       "Computing widget examples:   0%|          | 0/1 [00:00<?, ?example/s]"
      ]
     },
     "metadata": {},
     "output_type": "display_data"
    },
    {
     "data": {
      "text/html": [
       "\n",
       "    <div>\n",
       "      \n",
       "      <progress value='1548' max='1548' style='width:300px; height:20px; vertical-align: middle;'></progress>\n",
       "      [1548/1548 01:19, Epoch 3/3]\n",
       "    </div>\n",
       "    <table border=\"1\" class=\"dataframe\">\n",
       "  <thead>\n",
       " <tr style=\"text-align: left;\">\n",
       "      <th>Step</th>\n",
       "      <th>Training Loss</th>\n",
       "      <th>Validation Loss</th>\n",
       "    </tr>\n",
       "  </thead>\n",
       "  <tbody>\n",
       "    <tr>\n",
       "      <td>1000</td>\n",
       "      <td>0.081500</td>\n",
       "      <td>0.176270</td>\n",
       "    </tr>\n",
       "  </tbody>\n",
       "</table><p>"
      ],
      "text/plain": [
       "<IPython.core.display.HTML object>"
      ]
     },
     "metadata": {},
     "output_type": "display_data"
    }
   ],
   "source": [
    "### Trainer\n",
    "from datasets import load_dataset\n",
    "from sentence_transformers import (\n",
    "    SentenceTransformer,\n",
    "    SentenceTransformerTrainer,\n",
    "    SentenceTransformerTrainingArguments,\n",
    "    SentenceTransformerModelCardData,\n",
    ")\n",
    "from sentence_transformers.losses import MultipleNegativesRankingLoss\n",
    "from sentence_transformers.training_args import BatchSamplers\n",
    "from sentence_transformers.evaluation import TripletEvaluator\n",
    "\n",
    "# Load the dataset\n",
    "split_dataset = dataset.train_test_split(test_size=0.1, seed=42)\n",
    "train_ds = split_dataset[\"train\"]\n",
    "eval_ds = split_dataset[\"test\"]\n",
    "\n",
    "# set arguments\n",
    "args = SentenceTransformerTrainingArguments(\n",
    "    # Required parameter:\n",
    "    output_dir=\"output\",\n",
    "    # Optional training parameters:\n",
    "    num_train_epochs=3,\n",
    "    per_device_train_batch_size=16,\n",
    "    per_device_eval_batch_size=16,\n",
    "    learning_rate=2e-5,\n",
    "    warmup_ratio=0.1,\n",
    "    fp16=True,  # Set to False if you get an error that your GPU can't run on FP16\n",
    "    bf16=False,  # Set to True if you have a GPU that supports BF16\n",
    "    # Optional tracking/debugging parameters:\n",
    "    eval_strategy=\"steps\",\n",
    "    eval_steps=1000,\n",
    "    save_strategy=\"steps\",\n",
    "    save_steps=1000,\n",
    "    save_total_limit=2,\n",
    "    logging_steps=100,\n",
    "    run_name=\"sentence-transformer-training\",\n",
    ")\n",
    "\n",
    "# set trainer\n",
    "trainer = SentenceTransformerTrainer(\n",
    "    model=model,\n",
    "    args=args,\n",
    "    train_dataset=train_ds,\n",
    "    eval_dataset=eval_ds,\n",
    "    loss=loss,\n",
    ")\n",
    "\n",
    "# train the model\n",
    "trainer.train()\n",
    "\n",
    "# Save the model\n",
    "trainer.save_model(\"sbert_model\")\n"
   ]
  },
  {
   "cell_type": "code",
   "execution_count": null,
   "id": "9b8e37be",
   "metadata": {},
   "outputs": [],
   "source": []
  }
 ],
 "metadata": {
  "kernelspec": {
   "display_name": "Python 3",
   "language": "python",
   "name": "python3"
  },
  "language_info": {
   "codemirror_mode": {
    "name": "ipython",
    "version": 3
   },
   "file_extension": ".py",
   "mimetype": "text/x-python",
   "name": "python",
   "nbconvert_exporter": "python",
   "pygments_lexer": "ipython3",
   "version": "3.10.11"
  }
 },
 "nbformat": 4,
 "nbformat_minor": 5
}
