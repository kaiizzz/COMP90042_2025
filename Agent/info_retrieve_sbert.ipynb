{
 "cells": [
  {
   "cell_type": "markdown",
   "id": "ace88b54",
   "metadata": {},
   "source": [
    "### **First Stage Sentence Retrieval using SBERT**"
   ]
  },
  {
   "cell_type": "code",
   "execution_count": 1,
   "id": "d89a5d36",
   "metadata": {},
   "outputs": [
    {
     "name": "stderr",
     "output_type": "stream",
     "text": [
      "Matplotlib created a temporary cache directory at C:\\Users\\BILLZH~1\\AppData\\Local\\Temp\\matplotlib-v77y400_ because the default path (C:\\Users\\Bill Zhu\\.matplotlib) is not a writable directory; it is highly recommended to set the MPLCONFIGDIR environment variable to a writable directory, in particular to speed up the import of Matplotlib and to better support multiprocessing.\n"
     ]
    },
    {
     "name": "stdout",
     "output_type": "stream",
     "text": [
      "WARNING:tensorflow:From C:\\Users\\Bill Zhu\\AppData\\Local\\Packages\\PythonSoftwareFoundation.Python.3.10_qbz5n2kfra8p0\\LocalCache\\local-packages\\Python310\\site-packages\\tf_keras\\src\\losses.py:2976: The name tf.losses.sparse_softmax_cross_entropy is deprecated. Please use tf.compat.v1.losses.sparse_softmax_cross_entropy instead.\n",
      "\n"
     ]
    }
   ],
   "source": [
    "from sentence_transformers import SentenceTransformer\n",
    "import pandas as pd\n",
    "from sklearn.metrics.pairwise import cosine_similarity\n"
   ]
  },
  {
   "cell_type": "code",
   "execution_count": 2,
   "id": "5af3e540",
   "metadata": {},
   "outputs": [],
   "source": [
    "import json\n",
    "\n",
    "# Load datasets\n",
    "path = 'data/'\n",
    "\n",
    "with open(path+\"train-claims.json\", \"r\") as f:\n",
    "    train_claims = json.load(f)\n",
    "\n",
    "train_df = pd.DataFrame(train_claims).transpose()\n",
    "\n",
    "with open(path+\"dev-claims.json\", \"r\") as f:\n",
    "    dev_claims = json.load(f)\n",
    "dev_df = pd.DataFrame(dev_claims).transpose()\n",
    "\n",
    "with open(path+\"evidence.json\", \"r\") as f:\n",
    "    evidence = json.load(f)\n",
    "evidence_df = pd.DataFrame(list(evidence.items()), columns=[\"key\", \"value\"])"
   ]
  },
  {
   "cell_type": "code",
   "execution_count": 3,
   "id": "2e4a7401",
   "metadata": {},
   "outputs": [
    {
     "data": {
      "text/plain": [
       "SentenceTransformer(\n",
       "  (0): Transformer({'max_seq_length': 256, 'do_lower_case': False}) with Transformer model: BertModel \n",
       "  (1): Pooling({'word_embedding_dimension': 384, 'pooling_mode_cls_token': False, 'pooling_mode_mean_tokens': True, 'pooling_mode_max_tokens': False, 'pooling_mode_mean_sqrt_len_tokens': False, 'pooling_mode_weightedmean_tokens': False, 'pooling_mode_lasttoken': False, 'include_prompt': True})\n",
       "  (2): Normalize()\n",
       ")"
      ]
     },
     "execution_count": 3,
     "metadata": {},
     "output_type": "execute_result"
    }
   ],
   "source": [
    "# Load model\n",
    "#model = SentenceTransformer('cross-encoder-finetuned')\n",
    "model = SentenceTransformer('sbert_model')\n",
    "\n",
    "import torch \n",
    "device = torch.device(\"cuda\" if torch.cuda.is_available() else \"cpu\")\n",
    "model.to(device)"
   ]
  },
  {
   "cell_type": "code",
   "execution_count": 4,
   "id": "e1414468",
   "metadata": {},
   "outputs": [
    {
     "data": {
      "application/vnd.jupyter.widget-view+json": {
       "model_id": "fe579f5e57404aeda55aac8e9f5cb1c3",
       "version_major": 2,
       "version_minor": 0
      },
      "text/plain": [
       "Batches:   0%|          | 0/37776 [00:00<?, ?it/s]"
      ]
     },
     "metadata": {},
     "output_type": "display_data"
    }
   ],
   "source": [
    "embeddings = model.encode(evidence_df['value'].tolist(), show_progress_bar=True, device='cuda')"
   ]
  },
  {
   "cell_type": "code",
   "execution_count": null,
   "id": "c01c8f52",
   "metadata": {},
   "outputs": [
    {
     "data": {
      "application/vnd.jupyter.widget-view+json": {
       "model_id": "6c022c4fa6f24b1ba3950cae2f580ac0",
       "version_major": 2,
       "version_minor": 0
      },
      "text/plain": [
       "Batches:   0%|          | 0/5 [00:00<?, ?it/s]"
      ]
     },
     "metadata": {},
     "output_type": "display_data"
    }
   ],
   "source": [
    "claim_embeddings = model.encode(train_df['claim_text'].tolist(), show_progress_bar=True, device='cuda')"
   ]
  },
  {
   "cell_type": "code",
   "execution_count": 6,
   "id": "4626075b",
   "metadata": {},
   "outputs": [],
   "source": [
    "from sklearn.metrics.pairwise import cosine_similarity\n",
    "\n",
    "similarity_matrix = cosine_similarity(claim_embeddings, embeddings)"
   ]
  },
  {
   "cell_type": "code",
   "execution_count": 7,
   "id": "31d3cd11",
   "metadata": {},
   "outputs": [],
   "source": [
    "import numpy as np\n",
    "# Get top 10000 evidence for each claim\n",
    "top_k = 100\n",
    "top_indices = np.argsort(-similarity_matrix, axis=1)[:, :top_k]  # sort descending, get top 100 indices"
   ]
  },
  {
   "cell_type": "code",
   "execution_count": null,
   "id": "f6514c9c",
   "metadata": {},
   "outputs": [],
   "source": [
    "# Create new column with top evidence texts for each claim\n",
    "train_df[\"top_{top_k}_evidence\"] = [\n",
    "    evidence_df.iloc[indices][\"key\"].tolist() for indices in top_indices\n",
    "]"
   ]
  },
  {
   "cell_type": "code",
   "execution_count": null,
   "id": "546f5db3",
   "metadata": {},
   "outputs": [
    {
     "name": "stdout",
     "output_type": "stream",
     "text": [
      "Found 2 matches for gold standard 2\n",
      "Found 0 matches for gold standard 5\n",
      "Found 1 matches for gold standard 2\n",
      "Found 2 matches for gold standard 5\n",
      "Found 4 matches for gold standard 4\n",
      "Found 3 matches for gold standard 5\n",
      "Found 0 matches for gold standard 5\n",
      "Found 1 matches for gold standard 2\n",
      "Found 3 matches for gold standard 4\n",
      "Found 0 matches for gold standard 3\n",
      "Found 1 matches for gold standard 1\n",
      "Found 2 matches for gold standard 2\n",
      "Found 2 matches for gold standard 3\n",
      "Found 2 matches for gold standard 5\n",
      "Found 4 matches for gold standard 5\n",
      "Found 1 matches for gold standard 5\n",
      "Found 0 matches for gold standard 1\n",
      "Found 1 matches for gold standard 4\n",
      "Found 5 matches for gold standard 5\n",
      "Found 3 matches for gold standard 5\n",
      "Found 2 matches for gold standard 2\n",
      "Found 0 matches for gold standard 2\n",
      "Found 4 matches for gold standard 5\n",
      "Found 2 matches for gold standard 3\n",
      "Found 3 matches for gold standard 5\n",
      "Found 0 matches for gold standard 1\n",
      "Found 0 matches for gold standard 3\n",
      "Found 1 matches for gold standard 1\n",
      "Found 3 matches for gold standard 5\n",
      "Found 3 matches for gold standard 4\n",
      "Found 1 matches for gold standard 1\n",
      "Found 2 matches for gold standard 3\n",
      "Found 1 matches for gold standard 1\n",
      "Found 0 matches for gold standard 5\n",
      "Found 1 matches for gold standard 1\n",
      "Found 2 matches for gold standard 5\n",
      "Found 2 matches for gold standard 2\n",
      "Found 2 matches for gold standard 2\n",
      "Found 0 matches for gold standard 1\n",
      "Found 1 matches for gold standard 2\n",
      "Found 2 matches for gold standard 2\n",
      "Found 2 matches for gold standard 5\n",
      "Found 3 matches for gold standard 4\n",
      "Found 1 matches for gold standard 5\n",
      "Found 0 matches for gold standard 5\n",
      "Found 4 matches for gold standard 5\n",
      "Found 2 matches for gold standard 5\n",
      "Found 2 matches for gold standard 3\n",
      "Found 0 matches for gold standard 1\n",
      "Found 2 matches for gold standard 5\n",
      "Found 1 matches for gold standard 2\n",
      "Found 0 matches for gold standard 2\n",
      "Found 1 matches for gold standard 1\n",
      "Found 2 matches for gold standard 3\n",
      "Found 2 matches for gold standard 2\n",
      "Found 3 matches for gold standard 4\n",
      "Found 3 matches for gold standard 5\n",
      "Found 3 matches for gold standard 3\n",
      "Found 1 matches for gold standard 5\n",
      "Found 2 matches for gold standard 2\n",
      "Found 2 matches for gold standard 3\n",
      "Found 1 matches for gold standard 3\n",
      "Found 2 matches for gold standard 2\n",
      "Found 5 matches for gold standard 5\n",
      "Found 2 matches for gold standard 2\n",
      "Found 3 matches for gold standard 3\n",
      "Found 2 matches for gold standard 4\n",
      "Found 2 matches for gold standard 5\n",
      "Found 5 matches for gold standard 5\n",
      "Found 2 matches for gold standard 5\n",
      "Found 1 matches for gold standard 5\n",
      "Found 2 matches for gold standard 3\n",
      "Found 1 matches for gold standard 1\n",
      "Found 2 matches for gold standard 3\n",
      "Found 2 matches for gold standard 3\n",
      "Found 1 matches for gold standard 5\n",
      "Found 4 matches for gold standard 5\n",
      "Found 1 matches for gold standard 2\n",
      "Found 0 matches for gold standard 2\n",
      "Found 1 matches for gold standard 1\n",
      "Found 0 matches for gold standard 1\n",
      "Found 2 matches for gold standard 2\n",
      "Found 0 matches for gold standard 1\n",
      "Found 0 matches for gold standard 1\n",
      "Found 5 matches for gold standard 5\n",
      "Found 0 matches for gold standard 1\n",
      "Found 2 matches for gold standard 3\n",
      "Found 0 matches for gold standard 5\n",
      "Found 2 matches for gold standard 5\n",
      "Found 1 matches for gold standard 1\n",
      "Found 3 matches for gold standard 5\n",
      "Found 2 matches for gold standard 5\n",
      "Found 4 matches for gold standard 5\n",
      "Found 2 matches for gold standard 5\n",
      "Found 1 matches for gold standard 1\n",
      "Found 1 matches for gold standard 1\n",
      "Found 3 matches for gold standard 5\n",
      "Found 0 matches for gold standard 5\n",
      "Found 1 matches for gold standard 1\n",
      "Found 1 matches for gold standard 1\n",
      "Found 3 matches for gold standard 5\n",
      "Found 2 matches for gold standard 3\n",
      "Found 0 matches for gold standard 1\n",
      "Found 3 matches for gold standard 4\n",
      "Found 3 matches for gold standard 4\n",
      "Found 3 matches for gold standard 4\n",
      "Found 1 matches for gold standard 2\n",
      "Found 1 matches for gold standard 1\n",
      "Found 2 matches for gold standard 5\n",
      "Found 2 matches for gold standard 3\n",
      "Found 2 matches for gold standard 4\n",
      "Found 3 matches for gold standard 4\n",
      "Found 1 matches for gold standard 5\n",
      "Found 2 matches for gold standard 3\n",
      "Found 1 matches for gold standard 5\n",
      "Found 0 matches for gold standard 2\n",
      "Found 4 matches for gold standard 4\n",
      "Found 4 matches for gold standard 5\n",
      "Found 1 matches for gold standard 1\n",
      "Found 3 matches for gold standard 4\n",
      "Found 2 matches for gold standard 3\n",
      "Found 0 matches for gold standard 2\n",
      "Found 2 matches for gold standard 3\n",
      "Found 1 matches for gold standard 1\n",
      "Found 1 matches for gold standard 1\n",
      "Found 2 matches for gold standard 2\n",
      "Found 1 matches for gold standard 1\n",
      "Found 2 matches for gold standard 2\n",
      "Found 3 matches for gold standard 5\n",
      "Found 0 matches for gold standard 3\n",
      "Found 1 matches for gold standard 3\n",
      "Found 2 matches for gold standard 3\n",
      "Found 3 matches for gold standard 3\n",
      "Found 4 matches for gold standard 5\n",
      "Found 2 matches for gold standard 5\n",
      "Found 3 matches for gold standard 5\n",
      "Found 4 matches for gold standard 4\n",
      "Found 1 matches for gold standard 2\n",
      "Found 1 matches for gold standard 2\n",
      "Found 3 matches for gold standard 3\n",
      "Found 0 matches for gold standard 1\n",
      "Found 4 matches for gold standard 5\n",
      "Found 1 matches for gold standard 1\n",
      "Found 5 matches for gold standard 5\n",
      "Found 1 matches for gold standard 1\n",
      "Found 2 matches for gold standard 2\n",
      "Found 5 matches for gold standard 5\n",
      "Found 1 matches for gold standard 2\n",
      "Found 2 matches for gold standard 3\n",
      "Found 0 matches for gold standard 4\n",
      "Found 5 matches for gold standard 5\n",
      "Found 4 matches for gold standard 5\n",
      "Found 0 matches for gold standard 1\n",
      "Found 2 matches for gold standard 2\n",
      "Total matches: 285/491\n"
     ]
    }
   ],
   "source": [
    "total_matches = 0\n",
    "n = 0 \n",
    "for i in range(len(train_df)):\n",
    "    k = 0\n",
    "    evidence_list = train_df[\"evidences\"].iloc[i]\n",
    "    top_100_list = train_df[\"top_{top_k}_evidence\"].iloc[i]\n",
    "\n",
    "    for ev in evidence_list:\n",
    "        if ev in top_100_list:\n",
    "            k += 1\n",
    "    print(f\"Found {k} matches for gold standard {len(evidence_list)}\")\n",
    "    n += len(evidence_list)\n",
    "    total_matches += k\n",
    "\n",
    "print(f\"Total matches: {total_matches}/{n}\")"
   ]
  },
  {
   "cell_type": "code",
   "execution_count": null,
   "id": "48f0d24a",
   "metadata": {},
   "outputs": [],
   "source": [
    "### cross encoder\n",
    "from datasets import Dataset\n",
    "\n",
    "claims = []\n",
    "evidence_texts = []\n",
    "labels = []\n",
    "\n",
    "f//or row in "
   ]
  }
 ],
 "metadata": {
  "kernelspec": {
   "display_name": "Python 3",
   "language": "python",
   "name": "python3"
  },
  "language_info": {
   "codemirror_mode": {
    "name": "ipython",
    "version": 3
   },
   "file_extension": ".py",
   "mimetype": "text/x-python",
   "name": "python",
   "nbconvert_exporter": "python",
   "pygments_lexer": "ipython3",
   "version": "3.10.11"
  }
 },
 "nbformat": 4,
 "nbformat_minor": 5
}
