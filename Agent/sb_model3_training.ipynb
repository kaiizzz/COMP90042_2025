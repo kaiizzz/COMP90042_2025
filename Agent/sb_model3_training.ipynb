{
 "cells": [
  {
   "cell_type": "code",
   "execution_count": 5,
   "id": "c28cc641",
   "metadata": {},
   "outputs": [],
   "source": [
    "import json\n",
    "import pandas as pd\n",
    "\n",
    "path = 'data/'\n",
    "\n",
    "with open(path+\"train-claims.json\", \"r\") as f:\n",
    "    train_claims = json.load(f)\n",
    "\n",
    "train_df = pd.DataFrame(train_claims).transpose()\n",
    "\n",
    "with open(path+\"dev-claims.json\", \"r\") as f:\n",
    "    dev_claims = json.load(f)\n",
    "dev_df = pd.DataFrame(dev_claims).transpose()\n",
    "\n",
    "with open(path+\"evidence.json\", \"r\") as f:\n",
    "    evidence = json.load(f)\n",
    "evidence_df = pd.DataFrame(list(evidence.items()), columns=[\"key\", \"value\"])"
   ]
  },
  {
   "cell_type": "code",
   "execution_count": null,
   "id": "c3485a4b",
   "metadata": {},
   "outputs": [
    {
     "name": "stdout",
     "output_type": "stream",
     "text": [
      "Dataset({\n",
      "    features: ['claim', 'evidence', 'label'],\n",
      "    num_rows: 28682\n",
      "})\n",
      "{'claim': 'Not only is there no scientific evidence that CO2 is a pollutant, higher CO2 concentrations actually help ecosystems support more plant and animal life.', 'evidence': 'At very high concentrations (100 times atmospheric concentration, or greater), carbon dioxide can be toxic to animal life, so raising the concentration to 10,000 ppm (1%) or higher for several hours will eliminate pests such as whiteflies and spider mites in a greenhouse.', 'label': 1}\n"
     ]
    }
   ],
   "source": [
    "from datasets import Dataset\n",
    "import random\n",
    "\n",
    "claims = []\n",
    "evidence_texts = []\n",
    "labels = []\n",
    "\n",
    "evidence_map = dict(evidence)\n",
    "evidence_ids = list(evidence_map.keys())\n",
    "\n",
    "for _, info in train_claims.items():\n",
    "    claim_text = info[\"claim_text\"]\n",
    "    positive_ids = set(info[\"evidences\"])  # ensure no duplicates\n",
    "\n",
    "    # === Add all golden (positive) evidences ===\n",
    "    for eid in positive_ids:\n",
    "        if eid in evidence_map:\n",
    "            claims.append(claim_text)\n",
    "            evidence_texts.append(evidence_map[eid])\n",
    "            labels.append(1)\n",
    "\n",
    "    # === Add at least 5 unique negatives ===\n",
    "    negatives_added = 0\n",
    "    tried_ids = set()\n",
    "\n",
    "    while negatives_added < 10:\n",
    "        neg_id = random.choice(evidence_ids)\n",
    "\n",
    "        if neg_id in positive_ids or neg_id in tried_ids:\n",
    "            continue\n",
    "\n",
    "        tried_ids.add(neg_id)\n",
    "\n",
    "        if neg_id in evidence_map:\n",
    "            claims.append(claim_text)\n",
    "            evidence_texts.append(evidence_map[neg_id])\n",
    "            labels.append(-1)\n",
    "            negatives_added += 1\n",
    "\n",
    "# onvert to HuggingFace Dataset\n",
    "data = {\n",
    "    \"claim\": claims,\n",
    "    \"evidence\": evidence_texts,\n",
    "    \"label\": labels\n",
    "}\n",
    "\n",
    "dataset = Dataset.from_dict(data)\n",
    "\n",
    "# Confirm\n",
    "print(dataset)\n",
    "print(dataset[0])\n"
   ]
  },
  {
   "cell_type": "code",
   "execution_count": 7,
   "id": "44f58ed7",
   "metadata": {},
   "outputs": [],
   "source": [
    "from datasets import load_dataset\n",
    "from sentence_transformers import SentenceTransformer\n",
    "from sentence_transformers.losses import CachedMultipleNegativesRankingLoss \n",
    "\n",
    "model = SentenceTransformer('multi-qa-distilbert-cos-v1')\n",
    "\n",
    "loss = CachedMultipleNegativesRankingLoss(model)\n",
    "\n",
    "train_dataset = dataset"
   ]
  },
  {
   "cell_type": "code",
   "execution_count": 8,
   "id": "fbe3cee3",
   "metadata": {},
   "outputs": [
    {
     "data": {
      "application/vnd.jupyter.widget-view+json": {
       "model_id": "5e4577c0ed5e46fa88ef822678cde0a3",
       "version_major": 2,
       "version_minor": 0
      },
      "text/plain": [
       "Computing widget examples:   0%|          | 0/1 [00:00<?, ?example/s]"
      ]
     },
     "metadata": {},
     "output_type": "display_data"
    },
    {
     "data": {
      "text/html": [
       "\n",
       "    <div>\n",
       "      \n",
       "      <progress value='404' max='404' style='width:300px; height:20px; vertical-align: middle;'></progress>\n",
       "      [404/404 01:26, Epoch 0/1]\n",
       "    </div>\n",
       "    <table border=\"1\" class=\"dataframe\">\n",
       "  <thead>\n",
       " <tr style=\"text-align: left;\">\n",
       "      <th>Step</th>\n",
       "      <th>Training Loss</th>\n",
       "      <th>Validation Loss</th>\n",
       "    </tr>\n",
       "  </thead>\n",
       "  <tbody>\n",
       "    <tr>\n",
       "      <td>100</td>\n",
       "      <td>3.654300</td>\n",
       "      <td>3.462653</td>\n",
       "    </tr>\n",
       "    <tr>\n",
       "      <td>200</td>\n",
       "      <td>3.466600</td>\n",
       "      <td>3.462653</td>\n",
       "    </tr>\n",
       "    <tr>\n",
       "      <td>300</td>\n",
       "      <td>3.466200</td>\n",
       "      <td>3.462653</td>\n",
       "    </tr>\n",
       "    <tr>\n",
       "      <td>400</td>\n",
       "      <td>3.466100</td>\n",
       "      <td>3.462653</td>\n",
       "    </tr>\n",
       "  </tbody>\n",
       "</table><p>"
      ],
      "text/plain": [
       "<IPython.core.display.HTML object>"
      ]
     },
     "metadata": {},
     "output_type": "display_data"
    }
   ],
   "source": [
    "### Trainer\n",
    "from datasets import load_dataset\n",
    "from sentence_transformers import (\n",
    "    SentenceTransformer,\n",
    "    SentenceTransformerTrainer,\n",
    "    SentenceTransformerTrainingArguments,\n",
    "    SentenceTransformerModelCardData,\n",
    ")\n",
    "from sentence_transformers.losses import MultipleNegativesRankingLoss\n",
    "from sentence_transformers.training_args import BatchSamplers\n",
    "from sentence_transformers.evaluation import TripletEvaluator\n",
    "\n",
    "# Load the dataset\n",
    "split_dataset = dataset.train_test_split(test_size=0.1, seed=42)\n",
    "train_ds = split_dataset[\"train\"]\n",
    "eval_ds = split_dataset[\"test\"]\n",
    "\n",
    "# set arguments\n",
    "args = SentenceTransformerTrainingArguments(\n",
    "    # Required parameter:\n",
    "    output_dir=\"output\",\n",
    "    # Optional training parameters:\n",
    "    num_train_epochs=0.5,\n",
    "    per_device_train_batch_size=32,\n",
    "    per_device_eval_batch_size=32,\n",
    "    learning_rate=2e-2,\n",
    "    warmup_ratio=0.1,\n",
    "    fp16=True,  # Set to False if you get an error that your GPU can't run on FP16\n",
    "    bf16=False,  # Set to True if you have a GPU that supports BF16\n",
    "    # Optional tracking/debugging parameters:\n",
    "    eval_strategy=\"steps\",\n",
    "    eval_steps=100,\n",
    "    save_strategy=\"steps\",\n",
    "    save_steps=100,\n",
    "    save_total_limit=2,\n",
    "    logging_steps=100,\n",
    "    run_name=\"sentence-transformer-training\",\n",
    ")\n",
    "\n",
    "# set trainer\n",
    "trainer = SentenceTransformerTrainer(\n",
    "    model=model,\n",
    "    args=args,\n",
    "    train_dataset=train_ds,\n",
    "    eval_dataset=eval_ds,\n",
    "    loss=loss,\n",
    ")\n",
    "\n",
    "# train the model\n",
    "trainer.train()\n",
    "\n",
    "# Save the model\n",
    "trainer.save_model(\"sbert_model3\")\n"
   ]
  }
 ],
 "metadata": {
  "kernelspec": {
   "display_name": "Python 3",
   "language": "python",
   "name": "python3"
  },
  "language_info": {
   "codemirror_mode": {
    "name": "ipython",
    "version": 3
   },
   "file_extension": ".py",
   "mimetype": "text/x-python",
   "name": "python",
   "nbconvert_exporter": "python",
   "pygments_lexer": "ipython3",
   "version": "3.10.11"
  }
 },
 "nbformat": 4,
 "nbformat_minor": 5
}
